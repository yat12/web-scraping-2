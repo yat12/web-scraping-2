{
 "cells": [
  {
   "cell_type": "markdown",
   "metadata": {},
   "source": [
    "Q1: Write a python program to scrape data for “Data Analyst” Job position in\n",
    "“Bangalore” location. You have to scrape the job-title, job-location, company_name,\n",
    "experience_required. You have to scrape first 10 jobs data."
   ]
  },
  {
   "cell_type": "code",
   "execution_count": 85,
   "metadata": {},
   "outputs": [],
   "source": [
    "import selenium\n",
    "import pandas as pd\n",
    "from selenium import webdriver"
   ]
  },
  {
   "cell_type": "code",
   "execution_count": 2,
   "metadata": {},
   "outputs": [],
   "source": [
    "driver=webdriver.Chrome(r\"C:\\Users\\YaTiKa\\Desktop\\chromedriver.exe\")"
   ]
  },
  {
   "cell_type": "code",
   "execution_count": 3,
   "metadata": {},
   "outputs": [],
   "source": [
    "driver.get('https://www.naukri.com/')"
   ]
  },
  {
   "cell_type": "code",
   "execution_count": 5,
   "metadata": {},
   "outputs": [],
   "source": [
    "search_job=driver.find_element_by_id('qsb-keyword-sugg')\n",
    "search_job.send_keys('Data Analyst')\n",
    "search_loc=driver.find_element_by_xpath(\"//input[@id='qsb-location-sugg']\")\n",
    "search_loc.send_keys(\"Bangalore\")"
   ]
  },
  {
   "cell_type": "code",
   "execution_count": 6,
   "metadata": {},
   "outputs": [],
   "source": [
    "search_btn=driver.find_element_by_xpath(\"//div[@class='search-btn']/button\")\n",
    "search_btn.click()"
   ]
  },
  {
   "cell_type": "code",
   "execution_count": 7,
   "metadata": {},
   "outputs": [],
   "source": [
    "job_titles=[]\n",
    "company_names=[]\n",
    "location_list=[]\n",
    "experience_list=[]"
   ]
  },
  {
   "cell_type": "code",
   "execution_count": 8,
   "metadata": {},
   "outputs": [
    {
     "data": {
      "text/plain": [
       "[<selenium.webdriver.remote.webelement.WebElement (session=\"bd897b7292cca055d9a604bd80aae93b\", element=\"612a90f1-b96c-4f5e-af85-0adf533e4d6d\")>,\n",
       " <selenium.webdriver.remote.webelement.WebElement (session=\"bd897b7292cca055d9a604bd80aae93b\", element=\"6908e89d-670b-44a5-9eb2-530b92f93d66\")>,\n",
       " <selenium.webdriver.remote.webelement.WebElement (session=\"bd897b7292cca055d9a604bd80aae93b\", element=\"8b2b757f-51c8-49ce-9ac4-1cb80bd29e20\")>,\n",
       " <selenium.webdriver.remote.webelement.WebElement (session=\"bd897b7292cca055d9a604bd80aae93b\", element=\"842a76fd-c2ee-4d5c-a9f3-61669ba566f4\")>]"
      ]
     },
     "execution_count": 8,
     "metadata": {},
     "output_type": "execute_result"
    }
   ],
   "source": [
    "title_tags=driver.find_elements_by_xpath(\"//a[@class='title fw500 ellipsis']\")\n",
    "title_tags[0:4]"
   ]
  },
  {
   "cell_type": "code",
   "execution_count": 9,
   "metadata": {},
   "outputs": [
    {
     "data": {
      "text/plain": [
       "['Fresher Data Engineer / Data Scientist / Data Analyst Requirements',\n",
       " 'Data Scientist/Data Analyst',\n",
       " 'Business Data Analyst',\n",
       " 'SAS AML Data Analyst / Trainee & Data Science, Python Trainee',\n",
       " 'Hiring Data Analysts',\n",
       " 'Hiring Data Analysts',\n",
       " 'Data Analyst',\n",
       " 'Study Data Analyst',\n",
       " 'Data Analyst',\n",
       " 'Business Data Analyst | Reinsurance Domain']"
      ]
     },
     "execution_count": 9,
     "metadata": {},
     "output_type": "execute_result"
    }
   ],
   "source": [
    "for i in title_tags:\n",
    "    \n",
    "    title=i.text\n",
    "    job_titles.append(title)\n",
    "job_titles[0:10]"
   ]
  },
  {
   "cell_type": "code",
   "execution_count": 10,
   "metadata": {},
   "outputs": [
    {
     "data": {
      "text/plain": [
       "[<selenium.webdriver.remote.webelement.WebElement (session=\"bd897b7292cca055d9a604bd80aae93b\", element=\"4625754d-2885-4987-b50c-71daae7cb8e1\")>,\n",
       " <selenium.webdriver.remote.webelement.WebElement (session=\"bd897b7292cca055d9a604bd80aae93b\", element=\"a8032f4e-e558-4322-aaad-14ae491d0838\")>,\n",
       " <selenium.webdriver.remote.webelement.WebElement (session=\"bd897b7292cca055d9a604bd80aae93b\", element=\"2c40825b-cf18-40c2-ab1a-eddee3f637dc\")>,\n",
       " <selenium.webdriver.remote.webelement.WebElement (session=\"bd897b7292cca055d9a604bd80aae93b\", element=\"d2b2d8f0-50d7-40a8-a08e-ac2787ca568b\")>]"
      ]
     },
     "execution_count": 10,
     "metadata": {},
     "output_type": "execute_result"
    }
   ],
   "source": [
    "companies_tags=driver.find_elements_by_xpath(\"//a[@class='subTitle ellipsis fleft']\")\n",
    "companies_tags[0:4]"
   ]
  },
  {
   "cell_type": "code",
   "execution_count": 11,
   "metadata": {},
   "outputs": [
    {
     "data": {
      "text/plain": [
       "['ACHYUTAS SOFT PRIVATE LIMITED',\n",
       " 'CAIA-Center For Artificial Intelligence & Advanced Analytics',\n",
       " 'NetApp',\n",
       " 'MagicBase Royal BD Pvt Ltd',\n",
       " 'Flipkart Internet Private Limited',\n",
       " 'Flipkart Internet Private Limited',\n",
       " 'GlaxoSmithKline Pharmaceuticals Limited',\n",
       " 'GlaxoSmithKline Pharmaceuticals Limited',\n",
       " 'Cognizant Technology Solutions India Ltd',\n",
       " 'Mphasis Limited']"
      ]
     },
     "execution_count": 11,
     "metadata": {},
     "output_type": "execute_result"
    }
   ],
   "source": [
    "for i in companies_tags:\n",
    "    company_name=i.text\n",
    "    company_names.append(company_name)\n",
    "company_names[0:10]"
   ]
  },
  {
   "cell_type": "code",
   "execution_count": 12,
   "metadata": {},
   "outputs": [
    {
     "data": {
      "text/plain": [
       "[<selenium.webdriver.remote.webelement.WebElement (session=\"bd897b7292cca055d9a604bd80aae93b\", element=\"cc53f126-eb0f-4b55-b3ff-21b60a37f329\")>,\n",
       " <selenium.webdriver.remote.webelement.WebElement (session=\"bd897b7292cca055d9a604bd80aae93b\", element=\"8d9ab268-d5cc-472c-904f-c89dbcdd5d05\")>,\n",
       " <selenium.webdriver.remote.webelement.WebElement (session=\"bd897b7292cca055d9a604bd80aae93b\", element=\"277d007f-d39b-469a-bde8-c2df0f89f71b\")>,\n",
       " <selenium.webdriver.remote.webelement.WebElement (session=\"bd897b7292cca055d9a604bd80aae93b\", element=\"aa7c0452-7ef9-4de2-ab53-b59d04e2e441\")>]"
      ]
     },
     "execution_count": 12,
     "metadata": {},
     "output_type": "execute_result"
    }
   ],
   "source": [
    "experience_tags=driver.find_elements_by_xpath(\"//li[@class='fleft grey-text br2 placeHolderLi experience']/span[1]\")\n",
    "experience_tags[0:4]"
   ]
  },
  {
   "cell_type": "code",
   "execution_count": 13,
   "metadata": {},
   "outputs": [
    {
     "data": {
      "text/plain": [
       "['0-2 Yrs',\n",
       " '0-3 Yrs',\n",
       " '2-3 Yrs',\n",
       " '0-5 Yrs',\n",
       " '2-5 Yrs',\n",
       " '2-5 Yrs',\n",
       " '3-5 Yrs',\n",
       " '4-8 Yrs',\n",
       " '3-4 Yrs',\n",
       " '10-15 Yrs']"
      ]
     },
     "execution_count": 13,
     "metadata": {},
     "output_type": "execute_result"
    }
   ],
   "source": [
    "for i in experience_tags:\n",
    "    exp=i.text\n",
    "    experience_list.append(exp)\n",
    "experience_list[0:10]"
   ]
  },
  {
   "cell_type": "code",
   "execution_count": 14,
   "metadata": {},
   "outputs": [
    {
     "data": {
      "text/plain": [
       "[<selenium.webdriver.remote.webelement.WebElement (session=\"bd897b7292cca055d9a604bd80aae93b\", element=\"96cf0afa-c05a-4d52-8198-a813ab54282a\")>,\n",
       " <selenium.webdriver.remote.webelement.WebElement (session=\"bd897b7292cca055d9a604bd80aae93b\", element=\"6efcb096-f884-45c2-8dfa-645a33896a7a\")>,\n",
       " <selenium.webdriver.remote.webelement.WebElement (session=\"bd897b7292cca055d9a604bd80aae93b\", element=\"5e6bc32e-126f-46cf-b067-0c4c6422ec2f\")>,\n",
       " <selenium.webdriver.remote.webelement.WebElement (session=\"bd897b7292cca055d9a604bd80aae93b\", element=\"65ffb7c3-1dcf-4ea6-9538-bb5583a6424e\")>]"
      ]
     },
     "execution_count": 14,
     "metadata": {},
     "output_type": "execute_result"
    }
   ],
   "source": [
    "location_tags=driver.find_elements_by_xpath(\"//li[@class='fleft grey-text br2 placeHolderLi location']/span[1]\")\n",
    "location_tags[0:4]"
   ]
  },
  {
   "cell_type": "code",
   "execution_count": 15,
   "metadata": {},
   "outputs": [
    {
     "data": {
      "text/plain": [
       "['Delhi NCR, Bengaluru, Hyderabad',\n",
       " 'Chennai, Pune, Bengaluru, Hyderabad',\n",
       " 'Bengaluru',\n",
       " 'Bengaluru(Whitefield)',\n",
       " 'Bengaluru',\n",
       " 'Bengaluru',\n",
       " 'Bengaluru, India',\n",
       " 'Bengaluru',\n",
       " 'Bengaluru',\n",
       " 'Bengaluru']"
      ]
     },
     "execution_count": 15,
     "metadata": {},
     "output_type": "execute_result"
    }
   ],
   "source": [
    "for i in location_tags:\n",
    "    loc=i.text\n",
    "    location_list.append(loc)\n",
    "location_list[0:10]"
   ]
  },
  {
   "cell_type": "code",
   "execution_count": 16,
   "metadata": {},
   "outputs": [],
   "source": [
    "import pandas as pd\n",
    "jobs=pd.DataFrame({})\n",
    "jobs['title']=job_titles[0:10]\n",
    "jobs['company']=company_names[0:10]\n",
    "jobs['experience']=experience_list[0:10]\n",
    "jobs['location']=location_list[0:10]"
   ]
  },
  {
   "cell_type": "code",
   "execution_count": 17,
   "metadata": {},
   "outputs": [
    {
     "data": {
      "text/html": [
       "<div>\n",
       "<style scoped>\n",
       "    .dataframe tbody tr th:only-of-type {\n",
       "        vertical-align: middle;\n",
       "    }\n",
       "\n",
       "    .dataframe tbody tr th {\n",
       "        vertical-align: top;\n",
       "    }\n",
       "\n",
       "    .dataframe thead th {\n",
       "        text-align: right;\n",
       "    }\n",
       "</style>\n",
       "<table border=\"1\" class=\"dataframe\">\n",
       "  <thead>\n",
       "    <tr style=\"text-align: right;\">\n",
       "      <th></th>\n",
       "      <th>title</th>\n",
       "      <th>company</th>\n",
       "      <th>experience</th>\n",
       "      <th>location</th>\n",
       "    </tr>\n",
       "  </thead>\n",
       "  <tbody>\n",
       "    <tr>\n",
       "      <th>0</th>\n",
       "      <td>Fresher Data Engineer / Data Scientist / Data ...</td>\n",
       "      <td>ACHYUTAS SOFT PRIVATE LIMITED</td>\n",
       "      <td>0-2 Yrs</td>\n",
       "      <td>Delhi NCR, Bengaluru, Hyderabad</td>\n",
       "    </tr>\n",
       "    <tr>\n",
       "      <th>1</th>\n",
       "      <td>Data Scientist/Data Analyst</td>\n",
       "      <td>CAIA-Center For Artificial Intelligence &amp; Adva...</td>\n",
       "      <td>0-3 Yrs</td>\n",
       "      <td>Chennai, Pune, Bengaluru, Hyderabad</td>\n",
       "    </tr>\n",
       "    <tr>\n",
       "      <th>2</th>\n",
       "      <td>Business Data Analyst</td>\n",
       "      <td>NetApp</td>\n",
       "      <td>2-3 Yrs</td>\n",
       "      <td>Bengaluru</td>\n",
       "    </tr>\n",
       "    <tr>\n",
       "      <th>3</th>\n",
       "      <td>SAS AML Data Analyst / Trainee &amp; Data Science,...</td>\n",
       "      <td>MagicBase Royal BD Pvt Ltd</td>\n",
       "      <td>0-5 Yrs</td>\n",
       "      <td>Bengaluru(Whitefield)</td>\n",
       "    </tr>\n",
       "    <tr>\n",
       "      <th>4</th>\n",
       "      <td>Hiring Data Analysts</td>\n",
       "      <td>Flipkart Internet Private Limited</td>\n",
       "      <td>2-5 Yrs</td>\n",
       "      <td>Bengaluru</td>\n",
       "    </tr>\n",
       "    <tr>\n",
       "      <th>5</th>\n",
       "      <td>Hiring Data Analysts</td>\n",
       "      <td>Flipkart Internet Private Limited</td>\n",
       "      <td>2-5 Yrs</td>\n",
       "      <td>Bengaluru</td>\n",
       "    </tr>\n",
       "    <tr>\n",
       "      <th>6</th>\n",
       "      <td>Data Analyst</td>\n",
       "      <td>GlaxoSmithKline Pharmaceuticals Limited</td>\n",
       "      <td>3-5 Yrs</td>\n",
       "      <td>Bengaluru, India</td>\n",
       "    </tr>\n",
       "    <tr>\n",
       "      <th>7</th>\n",
       "      <td>Study Data Analyst</td>\n",
       "      <td>GlaxoSmithKline Pharmaceuticals Limited</td>\n",
       "      <td>4-8 Yrs</td>\n",
       "      <td>Bengaluru</td>\n",
       "    </tr>\n",
       "    <tr>\n",
       "      <th>8</th>\n",
       "      <td>Data Analyst</td>\n",
       "      <td>Cognizant Technology Solutions India Ltd</td>\n",
       "      <td>3-4 Yrs</td>\n",
       "      <td>Bengaluru</td>\n",
       "    </tr>\n",
       "    <tr>\n",
       "      <th>9</th>\n",
       "      <td>Business Data Analyst | Reinsurance Domain</td>\n",
       "      <td>Mphasis Limited</td>\n",
       "      <td>10-15 Yrs</td>\n",
       "      <td>Bengaluru</td>\n",
       "    </tr>\n",
       "  </tbody>\n",
       "</table>\n",
       "</div>"
      ],
      "text/plain": [
       "                                               title  \\\n",
       "0  Fresher Data Engineer / Data Scientist / Data ...   \n",
       "1                        Data Scientist/Data Analyst   \n",
       "2                              Business Data Analyst   \n",
       "3  SAS AML Data Analyst / Trainee & Data Science,...   \n",
       "4                               Hiring Data Analysts   \n",
       "5                               Hiring Data Analysts   \n",
       "6                                       Data Analyst   \n",
       "7                                 Study Data Analyst   \n",
       "8                                       Data Analyst   \n",
       "9         Business Data Analyst | Reinsurance Domain   \n",
       "\n",
       "                                             company experience  \\\n",
       "0                      ACHYUTAS SOFT PRIVATE LIMITED    0-2 Yrs   \n",
       "1  CAIA-Center For Artificial Intelligence & Adva...    0-3 Yrs   \n",
       "2                                             NetApp    2-3 Yrs   \n",
       "3                         MagicBase Royal BD Pvt Ltd    0-5 Yrs   \n",
       "4                  Flipkart Internet Private Limited    2-5 Yrs   \n",
       "5                  Flipkart Internet Private Limited    2-5 Yrs   \n",
       "6            GlaxoSmithKline Pharmaceuticals Limited    3-5 Yrs   \n",
       "7            GlaxoSmithKline Pharmaceuticals Limited    4-8 Yrs   \n",
       "8           Cognizant Technology Solutions India Ltd    3-4 Yrs   \n",
       "9                                    Mphasis Limited  10-15 Yrs   \n",
       "\n",
       "                              location  \n",
       "0      Delhi NCR, Bengaluru, Hyderabad  \n",
       "1  Chennai, Pune, Bengaluru, Hyderabad  \n",
       "2                            Bengaluru  \n",
       "3                Bengaluru(Whitefield)  \n",
       "4                            Bengaluru  \n",
       "5                            Bengaluru  \n",
       "6                     Bengaluru, India  \n",
       "7                            Bengaluru  \n",
       "8                            Bengaluru  \n",
       "9                            Bengaluru  "
      ]
     },
     "execution_count": 17,
     "metadata": {},
     "output_type": "execute_result"
    }
   ],
   "source": [
    "jobs"
   ]
  },
  {
   "cell_type": "code",
   "execution_count": 18,
   "metadata": {},
   "outputs": [],
   "source": [
    "driver.close() "
   ]
  },
  {
   "cell_type": "markdown",
   "metadata": {},
   "source": [
    "Q2: Write a python program to scrape data for “Data Scientist” Job position in\n",
    "“Bangalore” location. You have to scrape the job-title, job-location,\n",
    "company_name, full job-description. You have to scrape first 10 jobs data."
   ]
  },
  {
   "cell_type": "code",
   "execution_count": 109,
   "metadata": {},
   "outputs": [],
   "source": [
    "driver=webdriver.Chrome(r\"C:\\Users\\YaTiKa\\Desktop\\chromedriver.exe\")"
   ]
  },
  {
   "cell_type": "code",
   "execution_count": 110,
   "metadata": {},
   "outputs": [],
   "source": [
    "driver.get('https://www.naukri.com/')"
   ]
  },
  {
   "cell_type": "code",
   "execution_count": 111,
   "metadata": {},
   "outputs": [],
   "source": [
    "search_job=driver.find_element_by_id('qsb-keyword-sugg')\n",
    "search_job.send_keys('Data Scientist')\n",
    "search_loc=driver.find_element_by_xpath(\"//input[@id='qsb-location-sugg']\")\n",
    "search_loc.send_keys(\"Bangalore\")"
   ]
  },
  {
   "cell_type": "code",
   "execution_count": 112,
   "metadata": {},
   "outputs": [],
   "source": [
    "search_btn=driver.find_element_by_xpath(\"//div[@class='search-btn']/button\")\n",
    "search_btn.click()"
   ]
  },
  {
   "cell_type": "code",
   "execution_count": 113,
   "metadata": {},
   "outputs": [],
   "source": [
    "job_title=[]\n",
    "company_name=[]\n",
    "locations_list=[]\n"
   ]
  },
  {
   "cell_type": "code",
   "execution_count": 114,
   "metadata": {},
   "outputs": [
    {
     "data": {
      "text/plain": [
       "[<selenium.webdriver.remote.webelement.WebElement (session=\"90f0a4f2245fa44667cb25e656361a74\", element=\"48a4ebfc-8088-4bff-8379-ae40698f3008\")>,\n",
       " <selenium.webdriver.remote.webelement.WebElement (session=\"90f0a4f2245fa44667cb25e656361a74\", element=\"80920591-c672-41de-902f-20d0cef76ef6\")>,\n",
       " <selenium.webdriver.remote.webelement.WebElement (session=\"90f0a4f2245fa44667cb25e656361a74\", element=\"ed0362c7-6b59-47b5-ad83-f441905241ca\")>,\n",
       " <selenium.webdriver.remote.webelement.WebElement (session=\"90f0a4f2245fa44667cb25e656361a74\", element=\"6d4d0949-2a13-4889-a61e-a4b71ef8b291\")>]"
      ]
     },
     "execution_count": 114,
     "metadata": {},
     "output_type": "execute_result"
    }
   ],
   "source": [
    "title_tag=driver.find_elements_by_xpath(\"//a[@class='title fw500 ellipsis']\")\n",
    "title_tag[0:4]"
   ]
  },
  {
   "cell_type": "code",
   "execution_count": 115,
   "metadata": {},
   "outputs": [
    {
     "data": {
      "text/plain": [
       "['Fresher Data Engineer / Data Scientist / Data Analyst Requirements',\n",
       " 'Data Scientist/Data Analyst',\n",
       " 'Data Scientist - Python/MATLAB/Machine Learning Algorithms',\n",
       " 'Data Scientist - Machine Learning/Data Mining',\n",
       " 'Senior Data Scientist - NLP/ Python/ R',\n",
       " 'Senior Data Scientist | CES IT LTD | CMMI Level 5',\n",
       " 'Senior Data Scientist | CES IT LTD | CMMI Level 5',\n",
       " 'Data Scientist - Machine Learning',\n",
       " 'Data Scientist - Machine Learning - Remote Working',\n",
       " 'Artificial Intelligence Analyst/Data Scientist']"
      ]
     },
     "execution_count": 115,
     "metadata": {},
     "output_type": "execute_result"
    }
   ],
   "source": [
    "for i in title_tag:\n",
    "    \n",
    "    title=i.text\n",
    "    job_title.append(title)\n",
    "job_title[0:10]"
   ]
  },
  {
   "cell_type": "code",
   "execution_count": 116,
   "metadata": {},
   "outputs": [
    {
     "data": {
      "text/plain": [
       "[<selenium.webdriver.remote.webelement.WebElement (session=\"90f0a4f2245fa44667cb25e656361a74\", element=\"91bcc48c-fb24-4e1c-8e06-859fa2281177\")>,\n",
       " <selenium.webdriver.remote.webelement.WebElement (session=\"90f0a4f2245fa44667cb25e656361a74\", element=\"42f88828-d7b9-4401-abff-8533df8c99d0\")>,\n",
       " <selenium.webdriver.remote.webelement.WebElement (session=\"90f0a4f2245fa44667cb25e656361a74\", element=\"f47baedc-f06d-41a4-949c-c1b15b53474d\")>,\n",
       " <selenium.webdriver.remote.webelement.WebElement (session=\"90f0a4f2245fa44667cb25e656361a74\", element=\"46d1bf04-4e16-4b4e-9939-2136b90ec319\")>]"
      ]
     },
     "execution_count": 116,
     "metadata": {},
     "output_type": "execute_result"
    }
   ],
   "source": [
    "companies_tag=driver.find_elements_by_xpath(\"//a[@class='subTitle ellipsis fleft']\")\n",
    "companies_tag[0:4]"
   ]
  },
  {
   "cell_type": "code",
   "execution_count": 117,
   "metadata": {},
   "outputs": [
    {
     "data": {
      "text/plain": [
       "['ACHYUTAS SOFT PRIVATE LIMITED',\n",
       " 'CAIA-Center For Artificial Intelligence & Advanced Analytics',\n",
       " 'Wrackle Technologies Pvt Ltd',\n",
       " 'Minions Ventures',\n",
       " 'AVI Consulting LLP',\n",
       " 'CES Ltd.',\n",
       " 'CES Ltd.',\n",
       " 'BLUE YONDER INDIA PRIVATE LIMITED',\n",
       " 'Doji Ltd',\n",
       " 'TalentCo Search Pvt Ltd']"
      ]
     },
     "execution_count": 117,
     "metadata": {},
     "output_type": "execute_result"
    }
   ],
   "source": [
    "for i in companies_tag:\n",
    "    comp_name=i.text\n",
    "    company_name.append(comp_name)\n",
    "company_name[0:10]"
   ]
  },
  {
   "cell_type": "code",
   "execution_count": 118,
   "metadata": {},
   "outputs": [
    {
     "data": {
      "text/plain": [
       "[<selenium.webdriver.remote.webelement.WebElement (session=\"90f0a4f2245fa44667cb25e656361a74\", element=\"7993d3ce-a6f2-4e19-b84a-a01e92f1e426\")>,\n",
       " <selenium.webdriver.remote.webelement.WebElement (session=\"90f0a4f2245fa44667cb25e656361a74\", element=\"ff82f19f-c6ff-4b1b-9af3-68e29ffcc919\")>,\n",
       " <selenium.webdriver.remote.webelement.WebElement (session=\"90f0a4f2245fa44667cb25e656361a74\", element=\"bc5b70ea-5534-4b85-bef7-41801c1eb733\")>,\n",
       " <selenium.webdriver.remote.webelement.WebElement (session=\"90f0a4f2245fa44667cb25e656361a74\", element=\"c2541814-eb98-4976-8268-2e28922485e2\")>]"
      ]
     },
     "execution_count": 118,
     "metadata": {},
     "output_type": "execute_result"
    }
   ],
   "source": [
    "location_tags=driver.find_elements_by_xpath(\"//li[@class='fleft grey-text br2 placeHolderLi location']/span[1]\")\n",
    "location_tags[0:4]"
   ]
  },
  {
   "cell_type": "code",
   "execution_count": 119,
   "metadata": {},
   "outputs": [
    {
     "data": {
      "text/plain": [
       "['Delhi NCR, Bengaluru, Hyderabad',\n",
       " 'Chennai, Pune, Bengaluru, Hyderabad',\n",
       " 'Bengaluru',\n",
       " 'Bengaluru',\n",
       " 'Bengaluru, Hyderabad',\n",
       " 'Chennai, Pune, Delhi NCR, Mumbai, Bengaluru, Hyderabad, Kolkata',\n",
       " 'Chennai, Pune, Delhi NCR, Mumbai, Bengaluru, Hyderabad, Kolkata',\n",
       " 'Bengaluru',\n",
       " 'Delhi NCR, Bengaluru, Anywhere in India',\n",
       " 'Mumbai, Bengaluru']"
      ]
     },
     "execution_count": 119,
     "metadata": {},
     "output_type": "execute_result"
    }
   ],
   "source": [
    "for i in location_tags:\n",
    "    loc=i.text\n",
    "    locations_list.append(loc)\n",
    "locations_list[0:10]"
   ]
  },
  {
   "cell_type": "code",
   "execution_count": 120,
   "metadata": {},
   "outputs": [],
   "source": [
    "import pandas as pd\n",
    "jobs=pd.DataFrame({})\n",
    "jobs['title']=job_title[0:10]\n",
    "jobs['company']=company_name[0:10]\n",
    "\n",
    "jobs['location']=locations_list[0:10]"
   ]
  },
  {
   "cell_type": "code",
   "execution_count": 121,
   "metadata": {},
   "outputs": [
    {
     "data": {
      "text/html": [
       "<div>\n",
       "<style scoped>\n",
       "    .dataframe tbody tr th:only-of-type {\n",
       "        vertical-align: middle;\n",
       "    }\n",
       "\n",
       "    .dataframe tbody tr th {\n",
       "        vertical-align: top;\n",
       "    }\n",
       "\n",
       "    .dataframe thead th {\n",
       "        text-align: right;\n",
       "    }\n",
       "</style>\n",
       "<table border=\"1\" class=\"dataframe\">\n",
       "  <thead>\n",
       "    <tr style=\"text-align: right;\">\n",
       "      <th></th>\n",
       "      <th>title</th>\n",
       "      <th>company</th>\n",
       "      <th>location</th>\n",
       "    </tr>\n",
       "  </thead>\n",
       "  <tbody>\n",
       "    <tr>\n",
       "      <th>0</th>\n",
       "      <td>Fresher Data Engineer / Data Scientist / Data ...</td>\n",
       "      <td>ACHYUTAS SOFT PRIVATE LIMITED</td>\n",
       "      <td>Delhi NCR, Bengaluru, Hyderabad</td>\n",
       "    </tr>\n",
       "    <tr>\n",
       "      <th>1</th>\n",
       "      <td>Data Scientist/Data Analyst</td>\n",
       "      <td>CAIA-Center For Artificial Intelligence &amp; Adva...</td>\n",
       "      <td>Chennai, Pune, Bengaluru, Hyderabad</td>\n",
       "    </tr>\n",
       "    <tr>\n",
       "      <th>2</th>\n",
       "      <td>Data Scientist - Python/MATLAB/Machine Learnin...</td>\n",
       "      <td>Wrackle Technologies Pvt Ltd</td>\n",
       "      <td>Bengaluru</td>\n",
       "    </tr>\n",
       "    <tr>\n",
       "      <th>3</th>\n",
       "      <td>Data Scientist - Machine Learning/Data Mining</td>\n",
       "      <td>Minions Ventures</td>\n",
       "      <td>Bengaluru</td>\n",
       "    </tr>\n",
       "    <tr>\n",
       "      <th>4</th>\n",
       "      <td>Senior Data Scientist - NLP/ Python/ R</td>\n",
       "      <td>AVI Consulting LLP</td>\n",
       "      <td>Bengaluru, Hyderabad</td>\n",
       "    </tr>\n",
       "    <tr>\n",
       "      <th>5</th>\n",
       "      <td>Senior Data Scientist | CES IT LTD | CMMI Level 5</td>\n",
       "      <td>CES Ltd.</td>\n",
       "      <td>Chennai, Pune, Delhi NCR, Mumbai, Bengaluru, H...</td>\n",
       "    </tr>\n",
       "    <tr>\n",
       "      <th>6</th>\n",
       "      <td>Senior Data Scientist | CES IT LTD | CMMI Level 5</td>\n",
       "      <td>CES Ltd.</td>\n",
       "      <td>Chennai, Pune, Delhi NCR, Mumbai, Bengaluru, H...</td>\n",
       "    </tr>\n",
       "    <tr>\n",
       "      <th>7</th>\n",
       "      <td>Data Scientist - Machine Learning</td>\n",
       "      <td>BLUE YONDER INDIA PRIVATE LIMITED</td>\n",
       "      <td>Bengaluru</td>\n",
       "    </tr>\n",
       "    <tr>\n",
       "      <th>8</th>\n",
       "      <td>Data Scientist - Machine Learning - Remote Wor...</td>\n",
       "      <td>Doji Ltd</td>\n",
       "      <td>Delhi NCR, Bengaluru, Anywhere in India</td>\n",
       "    </tr>\n",
       "    <tr>\n",
       "      <th>9</th>\n",
       "      <td>Artificial Intelligence Analyst/Data Scientist</td>\n",
       "      <td>TalentCo Search Pvt Ltd</td>\n",
       "      <td>Mumbai, Bengaluru</td>\n",
       "    </tr>\n",
       "  </tbody>\n",
       "</table>\n",
       "</div>"
      ],
      "text/plain": [
       "                                               title  \\\n",
       "0  Fresher Data Engineer / Data Scientist / Data ...   \n",
       "1                        Data Scientist/Data Analyst   \n",
       "2  Data Scientist - Python/MATLAB/Machine Learnin...   \n",
       "3      Data Scientist - Machine Learning/Data Mining   \n",
       "4             Senior Data Scientist - NLP/ Python/ R   \n",
       "5  Senior Data Scientist | CES IT LTD | CMMI Level 5   \n",
       "6  Senior Data Scientist | CES IT LTD | CMMI Level 5   \n",
       "7                  Data Scientist - Machine Learning   \n",
       "8  Data Scientist - Machine Learning - Remote Wor...   \n",
       "9     Artificial Intelligence Analyst/Data Scientist   \n",
       "\n",
       "                                             company  \\\n",
       "0                      ACHYUTAS SOFT PRIVATE LIMITED   \n",
       "1  CAIA-Center For Artificial Intelligence & Adva...   \n",
       "2                       Wrackle Technologies Pvt Ltd   \n",
       "3                                   Minions Ventures   \n",
       "4                                 AVI Consulting LLP   \n",
       "5                                           CES Ltd.   \n",
       "6                                           CES Ltd.   \n",
       "7                  BLUE YONDER INDIA PRIVATE LIMITED   \n",
       "8                                           Doji Ltd   \n",
       "9                            TalentCo Search Pvt Ltd   \n",
       "\n",
       "                                            location  \n",
       "0                    Delhi NCR, Bengaluru, Hyderabad  \n",
       "1                Chennai, Pune, Bengaluru, Hyderabad  \n",
       "2                                          Bengaluru  \n",
       "3                                          Bengaluru  \n",
       "4                               Bengaluru, Hyderabad  \n",
       "5  Chennai, Pune, Delhi NCR, Mumbai, Bengaluru, H...  \n",
       "6  Chennai, Pune, Delhi NCR, Mumbai, Bengaluru, H...  \n",
       "7                                          Bengaluru  \n",
       "8            Delhi NCR, Bengaluru, Anywhere in India  \n",
       "9                                  Mumbai, Bengaluru  "
      ]
     },
     "execution_count": 121,
     "metadata": {},
     "output_type": "execute_result"
    }
   ],
   "source": [
    "jobs"
   ]
  },
  {
   "cell_type": "markdown",
   "metadata": {},
   "source": [
    "Q3: In this question you have to scrape data using the filters available on the\n",
    "webpage as shown below:\n",
    "You have to use the location and salary filter.\n",
    "You have to scrape data for “Data Scientist” designation for first 10 job results.\n",
    "You have to scrape the job-title, job-location, company_name,\n",
    "experience_required.\n",
    "The location filter to be used is “Delhi/NCR”\n",
    "The salary filter to be used is “3-6” lakhs"
   ]
  },
  {
   "cell_type": "code",
   "execution_count": 3,
   "metadata": {},
   "outputs": [],
   "source": [
    "driver.get('https://www.naukri.com/')"
   ]
  },
  {
   "cell_type": "code",
   "execution_count": 4,
   "metadata": {},
   "outputs": [],
   "source": [
    "search_job=driver.find_element_by_id('qsb-keyword-sugg')\n",
    "search_job.send_keys('Data Scientist')"
   ]
  },
  {
   "cell_type": "code",
   "execution_count": 5,
   "metadata": {},
   "outputs": [],
   "source": [
    "search_btn=driver.find_element_by_xpath(\"//div[@class='search-btn']/button\")\n",
    "search_btn.click()"
   ]
  },
  {
   "cell_type": "code",
   "execution_count": 9,
   "metadata": {},
   "outputs": [],
   "source": [
    "check_location=driver.find_element_by_xpath(\"//div[@class='mt-8 chckBoxCont'][2]\")\n",
    "check_location.click()"
   ]
  },
  {
   "cell_type": "code",
   "execution_count": 11,
   "metadata": {},
   "outputs": [],
   "source": [
    "check_sal=driver.find_element_by_xpath(\"//label[@for='chk-3-6 Lakhs-ctcFilter-']/i\")\n",
    "\n",
    "check_sal.click()\n"
   ]
  },
  {
   "cell_type": "code",
   "execution_count": 12,
   "metadata": {},
   "outputs": [],
   "source": [
    "job_titles=[]\n",
    "company_names=[]\n",
    "location_list=[]\n",
    "experience_list=[]"
   ]
  },
  {
   "cell_type": "code",
   "execution_count": 13,
   "metadata": {},
   "outputs": [
    {
     "data": {
      "text/plain": [
       "[<selenium.webdriver.remote.webelement.WebElement (session=\"16a8ceedc4c0dfd8d94e6de178e504a3\", element=\"585877e5-4a98-436c-9a1f-6cfdc4d6f413\")>,\n",
       " <selenium.webdriver.remote.webelement.WebElement (session=\"16a8ceedc4c0dfd8d94e6de178e504a3\", element=\"b166bd20-7125-4c84-b663-b3326ee73289\")>,\n",
       " <selenium.webdriver.remote.webelement.WebElement (session=\"16a8ceedc4c0dfd8d94e6de178e504a3\", element=\"c90fef79-171b-4315-893e-614cd3c986f2\")>,\n",
       " <selenium.webdriver.remote.webelement.WebElement (session=\"16a8ceedc4c0dfd8d94e6de178e504a3\", element=\"c3840d9d-8ef6-4bbd-b623-4b1ca621ff0c\")>]"
      ]
     },
     "execution_count": 13,
     "metadata": {},
     "output_type": "execute_result"
    }
   ],
   "source": [
    "title_tags=driver.find_elements_by_xpath(\"//a[@class='title fw500 ellipsis']\")\n",
    "title_tags[0:4]"
   ]
  },
  {
   "cell_type": "code",
   "execution_count": 14,
   "metadata": {},
   "outputs": [
    {
     "data": {
      "text/plain": [
       "['Fresher Data Engineer / Data Scientist / Data Analyst Requirements',\n",
       " 'GCP Skilled Analytics Resources (Data engineer / Data scientists)',\n",
       " 'GCP Skilled Analytics Resources (Data engineer / Data scientists)',\n",
       " 'Data Scientist - Python/Machine Learning',\n",
       " 'Data Scientist',\n",
       " 'Data Scientist',\n",
       " 'Data Scientist',\n",
       " 'Job | Opportunity For Senior Role(Data Scientist)-Bank of America',\n",
       " 'Data Scientist For A Leading Movers & Packers Organisation',\n",
       " 'Data Scientist(Hadoop/ Redshift /BigQuery)']"
      ]
     },
     "execution_count": 14,
     "metadata": {},
     "output_type": "execute_result"
    }
   ],
   "source": [
    "for i in title_tags:\n",
    "    \n",
    "    title=i.text\n",
    "    job_titles.append(title)\n",
    "job_titles[0:10]"
   ]
  },
  {
   "cell_type": "code",
   "execution_count": 15,
   "metadata": {},
   "outputs": [
    {
     "data": {
      "text/plain": [
       "[<selenium.webdriver.remote.webelement.WebElement (session=\"16a8ceedc4c0dfd8d94e6de178e504a3\", element=\"bff62a53-7b7b-4ddc-8c84-e6fea14d0b50\")>,\n",
       " <selenium.webdriver.remote.webelement.WebElement (session=\"16a8ceedc4c0dfd8d94e6de178e504a3\", element=\"219fe89c-8e09-4287-bb81-e08042aa8d41\")>,\n",
       " <selenium.webdriver.remote.webelement.WebElement (session=\"16a8ceedc4c0dfd8d94e6de178e504a3\", element=\"46d63d12-6f56-4be2-a8c7-aaba74c45cbf\")>,\n",
       " <selenium.webdriver.remote.webelement.WebElement (session=\"16a8ceedc4c0dfd8d94e6de178e504a3\", element=\"5ad33142-1ff4-4031-8de4-767a6ea7a2a4\")>]"
      ]
     },
     "execution_count": 15,
     "metadata": {},
     "output_type": "execute_result"
    }
   ],
   "source": [
    "companies_tags=driver.find_elements_by_xpath(\"//a[@class='subTitle ellipsis fleft']\")\n",
    "companies_tags[0:4]"
   ]
  },
  {
   "cell_type": "code",
   "execution_count": 16,
   "metadata": {},
   "outputs": [
    {
     "data": {
      "text/plain": [
       "['ACHYUTAS SOFT PRIVATE LIMITED',\n",
       " 'Aerial Telecom Solutions Pvt. Ltd.',\n",
       " 'Aerial Telecom Solutions Pvt. Ltd.',\n",
       " 'Jubna',\n",
       " 'PureSoftware Pvt Ltd.',\n",
       " 'World Wide Technology',\n",
       " 'Stark Industries',\n",
       " 'BA Continuum India Pvt. Ltd',\n",
       " 'Myfuture Placement Consultancy',\n",
       " 'Jubna']"
      ]
     },
     "execution_count": 16,
     "metadata": {},
     "output_type": "execute_result"
    }
   ],
   "source": [
    "for i in companies_tags:\n",
    "    company_name=i.text\n",
    "    company_names.append(company_name)\n",
    "company_names[0:10]"
   ]
  },
  {
   "cell_type": "code",
   "execution_count": 17,
   "metadata": {},
   "outputs": [
    {
     "data": {
      "text/plain": [
       "[<selenium.webdriver.remote.webelement.WebElement (session=\"16a8ceedc4c0dfd8d94e6de178e504a3\", element=\"f2f25451-decb-49cc-aa5c-aaa129bd62a1\")>,\n",
       " <selenium.webdriver.remote.webelement.WebElement (session=\"16a8ceedc4c0dfd8d94e6de178e504a3\", element=\"afe7c90f-f3cf-4588-8356-e786adfbd7fc\")>,\n",
       " <selenium.webdriver.remote.webelement.WebElement (session=\"16a8ceedc4c0dfd8d94e6de178e504a3\", element=\"d39932dd-0924-42cf-9ba5-4e389848db42\")>,\n",
       " <selenium.webdriver.remote.webelement.WebElement (session=\"16a8ceedc4c0dfd8d94e6de178e504a3\", element=\"b7afc968-8b2b-4b03-b695-0706677ea48f\")>]"
      ]
     },
     "execution_count": 17,
     "metadata": {},
     "output_type": "execute_result"
    }
   ],
   "source": [
    "experience_tags=driver.find_elements_by_xpath(\"//li[@class='fleft grey-text br2 placeHolderLi experience']/span[1]\")\n",
    "experience_tags[0:4]"
   ]
  },
  {
   "cell_type": "code",
   "execution_count": 18,
   "metadata": {},
   "outputs": [
    {
     "data": {
      "text/plain": [
       "['0-2 Yrs',\n",
       " '3-8 Yrs',\n",
       " '3-8 Yrs',\n",
       " '5-8 Yrs',\n",
       " '5-9 Yrs',\n",
       " '3-8 Yrs',\n",
       " '3-5 Yrs',\n",
       " '14-17 Yrs',\n",
       " '1-2 Yrs',\n",
       " '4-6 Yrs']"
      ]
     },
     "execution_count": 18,
     "metadata": {},
     "output_type": "execute_result"
    }
   ],
   "source": [
    "for i in experience_tags:\n",
    "    exp=i.text\n",
    "    experience_list.append(exp)\n",
    "experience_list[0:10]"
   ]
  },
  {
   "cell_type": "code",
   "execution_count": 19,
   "metadata": {},
   "outputs": [
    {
     "data": {
      "text/plain": [
       "[<selenium.webdriver.remote.webelement.WebElement (session=\"16a8ceedc4c0dfd8d94e6de178e504a3\", element=\"289219f1-0861-401a-a162-dd1eaac9b410\")>,\n",
       " <selenium.webdriver.remote.webelement.WebElement (session=\"16a8ceedc4c0dfd8d94e6de178e504a3\", element=\"b1f913af-30b8-4193-b9f1-c1dc86972f60\")>,\n",
       " <selenium.webdriver.remote.webelement.WebElement (session=\"16a8ceedc4c0dfd8d94e6de178e504a3\", element=\"3c0bbeec-010b-4b97-942f-18f56a0ef48d\")>,\n",
       " <selenium.webdriver.remote.webelement.WebElement (session=\"16a8ceedc4c0dfd8d94e6de178e504a3\", element=\"902ff837-e2a1-488d-b0a8-7e6567b7c88a\")>]"
      ]
     },
     "execution_count": 19,
     "metadata": {},
     "output_type": "execute_result"
    }
   ],
   "source": [
    "location_tags=driver.find_elements_by_xpath(\"//li[@class='fleft grey-text br2 placeHolderLi location']/span[1]\")\n",
    "location_tags[0:4]"
   ]
  },
  {
   "cell_type": "code",
   "execution_count": 20,
   "metadata": {},
   "outputs": [
    {
     "data": {
      "text/plain": [
       "['Delhi NCR, Bengaluru, Hyderabad',\n",
       " 'Pune, Bengaluru, Gurgaon',\n",
       " 'Pune, Bengaluru, Gurgaon',\n",
       " 'Noida',\n",
       " 'Gurgaon',\n",
       " 'Gurgaon',\n",
       " 'Delhi',\n",
       " 'Gandhinagar, Delhi NCR, Mumbai, Gurgaon',\n",
       " 'Delhi NCR',\n",
       " 'Noida']"
      ]
     },
     "execution_count": 20,
     "metadata": {},
     "output_type": "execute_result"
    }
   ],
   "source": [
    "for i in location_tags:\n",
    "    loc=i.text\n",
    "    location_list.append(loc)\n",
    "location_list[0:10]"
   ]
  },
  {
   "cell_type": "code",
   "execution_count": 21,
   "metadata": {},
   "outputs": [],
   "source": [
    "import pandas as pd\n",
    "jobs1=pd.DataFrame({})\n",
    "jobs1['title']=job_titles[0:10]\n",
    "jobs1['company']=company_names[0:10]\n",
    "jobs1['experience']=experience_list[0:10]\n",
    "jobs1['location']=location_list[0:10]"
   ]
  },
  {
   "cell_type": "code",
   "execution_count": 22,
   "metadata": {},
   "outputs": [
    {
     "data": {
      "text/html": [
       "<div>\n",
       "<style scoped>\n",
       "    .dataframe tbody tr th:only-of-type {\n",
       "        vertical-align: middle;\n",
       "    }\n",
       "\n",
       "    .dataframe tbody tr th {\n",
       "        vertical-align: top;\n",
       "    }\n",
       "\n",
       "    .dataframe thead th {\n",
       "        text-align: right;\n",
       "    }\n",
       "</style>\n",
       "<table border=\"1\" class=\"dataframe\">\n",
       "  <thead>\n",
       "    <tr style=\"text-align: right;\">\n",
       "      <th></th>\n",
       "      <th>title</th>\n",
       "      <th>company</th>\n",
       "      <th>experience</th>\n",
       "      <th>location</th>\n",
       "    </tr>\n",
       "  </thead>\n",
       "  <tbody>\n",
       "    <tr>\n",
       "      <th>0</th>\n",
       "      <td>Fresher Data Engineer / Data Scientist / Data ...</td>\n",
       "      <td>ACHYUTAS SOFT PRIVATE LIMITED</td>\n",
       "      <td>0-2 Yrs</td>\n",
       "      <td>Delhi NCR, Bengaluru, Hyderabad</td>\n",
       "    </tr>\n",
       "    <tr>\n",
       "      <th>1</th>\n",
       "      <td>GCP Skilled Analytics Resources (Data engineer...</td>\n",
       "      <td>Aerial Telecom Solutions Pvt. Ltd.</td>\n",
       "      <td>3-8 Yrs</td>\n",
       "      <td>Pune, Bengaluru, Gurgaon</td>\n",
       "    </tr>\n",
       "    <tr>\n",
       "      <th>2</th>\n",
       "      <td>GCP Skilled Analytics Resources (Data engineer...</td>\n",
       "      <td>Aerial Telecom Solutions Pvt. Ltd.</td>\n",
       "      <td>3-8 Yrs</td>\n",
       "      <td>Pune, Bengaluru, Gurgaon</td>\n",
       "    </tr>\n",
       "    <tr>\n",
       "      <th>3</th>\n",
       "      <td>Data Scientist - Python/Machine Learning</td>\n",
       "      <td>Jubna</td>\n",
       "      <td>5-8 Yrs</td>\n",
       "      <td>Noida</td>\n",
       "    </tr>\n",
       "    <tr>\n",
       "      <th>4</th>\n",
       "      <td>Data Scientist</td>\n",
       "      <td>PureSoftware Pvt Ltd.</td>\n",
       "      <td>5-9 Yrs</td>\n",
       "      <td>Gurgaon</td>\n",
       "    </tr>\n",
       "    <tr>\n",
       "      <th>5</th>\n",
       "      <td>Data Scientist</td>\n",
       "      <td>World Wide Technology</td>\n",
       "      <td>3-8 Yrs</td>\n",
       "      <td>Gurgaon</td>\n",
       "    </tr>\n",
       "    <tr>\n",
       "      <th>6</th>\n",
       "      <td>Data Scientist</td>\n",
       "      <td>Stark Industries</td>\n",
       "      <td>3-5 Yrs</td>\n",
       "      <td>Delhi</td>\n",
       "    </tr>\n",
       "    <tr>\n",
       "      <th>7</th>\n",
       "      <td>Job | Opportunity For Senior Role(Data Scienti...</td>\n",
       "      <td>BA Continuum India Pvt. Ltd</td>\n",
       "      <td>14-17 Yrs</td>\n",
       "      <td>Gandhinagar, Delhi NCR, Mumbai, Gurgaon</td>\n",
       "    </tr>\n",
       "    <tr>\n",
       "      <th>8</th>\n",
       "      <td>Data Scientist For A Leading Movers &amp; Packers ...</td>\n",
       "      <td>Myfuture Placement Consultancy</td>\n",
       "      <td>1-2 Yrs</td>\n",
       "      <td>Delhi NCR</td>\n",
       "    </tr>\n",
       "    <tr>\n",
       "      <th>9</th>\n",
       "      <td>Data Scientist(Hadoop/ Redshift /BigQuery)</td>\n",
       "      <td>Jubna</td>\n",
       "      <td>4-6 Yrs</td>\n",
       "      <td>Noida</td>\n",
       "    </tr>\n",
       "  </tbody>\n",
       "</table>\n",
       "</div>"
      ],
      "text/plain": [
       "                                               title  \\\n",
       "0  Fresher Data Engineer / Data Scientist / Data ...   \n",
       "1  GCP Skilled Analytics Resources (Data engineer...   \n",
       "2  GCP Skilled Analytics Resources (Data engineer...   \n",
       "3           Data Scientist - Python/Machine Learning   \n",
       "4                                     Data Scientist   \n",
       "5                                     Data Scientist   \n",
       "6                                     Data Scientist   \n",
       "7  Job | Opportunity For Senior Role(Data Scienti...   \n",
       "8  Data Scientist For A Leading Movers & Packers ...   \n",
       "9         Data Scientist(Hadoop/ Redshift /BigQuery)   \n",
       "\n",
       "                              company experience  \\\n",
       "0       ACHYUTAS SOFT PRIVATE LIMITED    0-2 Yrs   \n",
       "1  Aerial Telecom Solutions Pvt. Ltd.    3-8 Yrs   \n",
       "2  Aerial Telecom Solutions Pvt. Ltd.    3-8 Yrs   \n",
       "3                               Jubna    5-8 Yrs   \n",
       "4               PureSoftware Pvt Ltd.    5-9 Yrs   \n",
       "5               World Wide Technology    3-8 Yrs   \n",
       "6                    Stark Industries    3-5 Yrs   \n",
       "7         BA Continuum India Pvt. Ltd  14-17 Yrs   \n",
       "8      Myfuture Placement Consultancy    1-2 Yrs   \n",
       "9                               Jubna    4-6 Yrs   \n",
       "\n",
       "                                  location  \n",
       "0          Delhi NCR, Bengaluru, Hyderabad  \n",
       "1                 Pune, Bengaluru, Gurgaon  \n",
       "2                 Pune, Bengaluru, Gurgaon  \n",
       "3                                    Noida  \n",
       "4                                  Gurgaon  \n",
       "5                                  Gurgaon  \n",
       "6                                    Delhi  \n",
       "7  Gandhinagar, Delhi NCR, Mumbai, Gurgaon  \n",
       "8                                Delhi NCR  \n",
       "9                                    Noida  "
      ]
     },
     "execution_count": 22,
     "metadata": {},
     "output_type": "execute_result"
    }
   ],
   "source": [
    "jobs1"
   ]
  },
  {
   "cell_type": "markdown",
   "metadata": {},
   "source": [
    "Q4: Write a python program to scrape data for first 10 job results for Data scientist\n",
    "Designation in Noida location. You have to scrape company_name, No. of days\n",
    "ago when job was posted, Rating of the company."
   ]
  },
  {
   "cell_type": "code",
   "execution_count": 58,
   "metadata": {},
   "outputs": [],
   "source": [
    "driver=webdriver.Chrome(r\"C:\\Users\\YaTiKa\\Desktop\\chromedriver.exe\")"
   ]
  },
  {
   "cell_type": "code",
   "execution_count": 59,
   "metadata": {},
   "outputs": [],
   "source": [
    "driver.get('https://www.glassdoor.co.in/index.htm')"
   ]
  },
  {
   "cell_type": "code",
   "execution_count": 60,
   "metadata": {},
   "outputs": [],
   "source": [
    "search_job=driver.find_element_by_id('sc.keyword')\n",
    "search_job.send_keys('Data Scientist')"
   ]
  },
  {
   "cell_type": "code",
   "execution_count": 61,
   "metadata": {},
   "outputs": [],
   "source": [
    "search_loc=driver.find_element_by_id(\"sc.location\")\n",
    "search_loc.send_keys(\"Noida\")"
   ]
  },
  {
   "cell_type": "code",
   "execution_count": 62,
   "metadata": {},
   "outputs": [],
   "source": [
    "search_btn=driver.find_element_by_xpath(\"//button[@class='gd-ui-button ml-std col-auto SearchStyles__newSearchButton css-iixdfr']\")\n",
    "search_btn.click()"
   ]
  },
  {
   "cell_type": "code",
   "execution_count": 63,
   "metadata": {},
   "outputs": [],
   "source": [
    "job_titles=[]\n",
    "company_names=[]\n",
    "location_list=[]\n",
    "salary_list=[]"
   ]
  },
  {
   "cell_type": "code",
   "execution_count": 64,
   "metadata": {},
   "outputs": [
    {
     "data": {
      "text/plain": [
       "[<selenium.webdriver.remote.webelement.WebElement (session=\"67b4f3f8838d6909fe1086d3851be6a9\", element=\"b6726eb0-d364-4270-81be-d734c0c05fe3\")>,\n",
       " <selenium.webdriver.remote.webelement.WebElement (session=\"67b4f3f8838d6909fe1086d3851be6a9\", element=\"44d29d2b-92ca-4250-93d5-e038994d99ca\")>,\n",
       " <selenium.webdriver.remote.webelement.WebElement (session=\"67b4f3f8838d6909fe1086d3851be6a9\", element=\"b585cef9-97a0-4e60-baf0-d8f3702f1e33\")>,\n",
       " <selenium.webdriver.remote.webelement.WebElement (session=\"67b4f3f8838d6909fe1086d3851be6a9\", element=\"9c02496f-4019-4cc3-acd9-48750628d718\")>]"
      ]
     },
     "execution_count": 64,
     "metadata": {},
     "output_type": "execute_result"
    }
   ],
   "source": [
    "title_tags=driver.find_elements_by_xpath(\"//a[@class='jobInfoItem jobTitle css-13w0lq6 eigr9kq1 jobLink']/span\")\n",
    "title_tags[0:4]"
   ]
  },
  {
   "cell_type": "code",
   "execution_count": 65,
   "metadata": {},
   "outputs": [
    {
     "data": {
      "text/plain": [
       "['Data Scientist',\n",
       " 'Assistant Manager - Data Scientist',\n",
       " 'Data Analyst',\n",
       " 'Data Scientist',\n",
       " 'Data Scientist',\n",
       " 'Data Scientist',\n",
       " 'Data Scientist',\n",
       " 'Data Scientist',\n",
       " 'Data Scientist',\n",
       " 'Data Scientist']"
      ]
     },
     "execution_count": 65,
     "metadata": {},
     "output_type": "execute_result"
    }
   ],
   "source": [
    "for i in title_tags:\n",
    "    \n",
    "    title=i.text\n",
    "    job_titles.append(title)\n",
    "job_titles[0:10]"
   ]
  },
  {
   "cell_type": "code",
   "execution_count": 66,
   "metadata": {},
   "outputs": [
    {
     "data": {
      "text/plain": [
       "[<selenium.webdriver.remote.webelement.WebElement (session=\"67b4f3f8838d6909fe1086d3851be6a9\", element=\"88e8b29e-f0bc-4182-bd75-749720ba103c\")>,\n",
       " <selenium.webdriver.remote.webelement.WebElement (session=\"67b4f3f8838d6909fe1086d3851be6a9\", element=\"fc737332-1485-4444-89d5-fb8cd43de526\")>,\n",
       " <selenium.webdriver.remote.webelement.WebElement (session=\"67b4f3f8838d6909fe1086d3851be6a9\", element=\"44beabca-934f-457d-9f94-82cebabcc6b0\")>,\n",
       " <selenium.webdriver.remote.webelement.WebElement (session=\"67b4f3f8838d6909fe1086d3851be6a9\", element=\"718060f7-0307-4827-a4e7-01d779fb908f\")>]"
      ]
     },
     "execution_count": 66,
     "metadata": {},
     "output_type": "execute_result"
    }
   ],
   "source": [
    "companies_tags=driver.find_elements_by_xpath(\"//a[@class=' css-10l5u4p e1n63ojh0 jobLink']/span\")\n",
    "companies_tags[0:4]"
   ]
  },
  {
   "cell_type": "code",
   "execution_count": 67,
   "metadata": {},
   "outputs": [
    {
     "data": {
      "text/plain": [
       "['IHS Markit',\n",
       " 'Genpact',\n",
       " 'GroundTruth',\n",
       " 'Gauge Data Solutions',\n",
       " 'MARKTECH CONSULTANCY',\n",
       " 'Algoscale',\n",
       " 'SearchUrCollege',\n",
       " 'Techlive',\n",
       " 'Priority Vendor',\n",
       " 'Biz2Credit Inc']"
      ]
     },
     "execution_count": 67,
     "metadata": {},
     "output_type": "execute_result"
    }
   ],
   "source": [
    "for i in companies_tags:\n",
    "    company_name=i.text\n",
    "    company_names.append(company_name)\n",
    "company_names[0:10]"
   ]
  },
  {
   "cell_type": "code",
   "execution_count": 68,
   "metadata": {},
   "outputs": [
    {
     "data": {
      "text/plain": [
       "[<selenium.webdriver.remote.webelement.WebElement (session=\"67b4f3f8838d6909fe1086d3851be6a9\", element=\"9530266d-36dd-4f50-ace8-947c63421ace\")>,\n",
       " <selenium.webdriver.remote.webelement.WebElement (session=\"67b4f3f8838d6909fe1086d3851be6a9\", element=\"829507ed-3c73-42b3-a7e7-dd7470a9c205\")>,\n",
       " <selenium.webdriver.remote.webelement.WebElement (session=\"67b4f3f8838d6909fe1086d3851be6a9\", element=\"d578a13e-8b04-4f9e-ac37-bdc190da71bb\")>,\n",
       " <selenium.webdriver.remote.webelement.WebElement (session=\"67b4f3f8838d6909fe1086d3851be6a9\", element=\"1d482229-ca10-4ce0-b978-497f09644518\")>]"
      ]
     },
     "execution_count": 68,
     "metadata": {},
     "output_type": "execute_result"
    }
   ],
   "source": [
    "sal_tags=driver.find_elements_by_xpath(\"//span[@class='css-18034rf e1wijj242']\")\n",
    "sal_tags[0:4]"
   ]
  },
  {
   "cell_type": "code",
   "execution_count": 69,
   "metadata": {},
   "outputs": [
    {
     "data": {
      "text/plain": [
       "['₹533K-₹758K (Glassdoor Est.)',\n",
       " '₹500K-₹829K (Glassdoor Est.)',\n",
       " '₹312K-₹518K (Glassdoor Est.)',\n",
       " '₹312K-₹600K (Glassdoor Est.)',\n",
       " '₹287K-₹611K (Glassdoor Est.)',\n",
       " '₹421K-₹480K (Glassdoor Est.)',\n",
       " '₹313K-₹607K (Glassdoor Est.)',\n",
       " '₹126K-₹600K (Glassdoor Est.)',\n",
       " '₹206K-₹622K (Glassdoor Est.)',\n",
       " '₹420K-₹850K (Glassdoor Est.)']"
      ]
     },
     "execution_count": 69,
     "metadata": {},
     "output_type": "execute_result"
    }
   ],
   "source": [
    "for i in sal_tags:\n",
    "    sal_name=i.text\n",
    "    salary_list.append(sal_name)\n",
    "salary_list[0:10]"
   ]
  },
  {
   "cell_type": "code",
   "execution_count": 70,
   "metadata": {},
   "outputs": [
    {
     "data": {
      "text/plain": [
       "[<selenium.webdriver.remote.webelement.WebElement (session=\"67b4f3f8838d6909fe1086d3851be6a9\", element=\"144e1b4b-8bd9-4c55-af1d-7f7d2445e78f\")>,\n",
       " <selenium.webdriver.remote.webelement.WebElement (session=\"67b4f3f8838d6909fe1086d3851be6a9\", element=\"46fd1b1b-cdd7-45fa-8835-cabdfe4a0157\")>,\n",
       " <selenium.webdriver.remote.webelement.WebElement (session=\"67b4f3f8838d6909fe1086d3851be6a9\", element=\"c3e36b25-7452-4db1-9037-5e5aece31501\")>,\n",
       " <selenium.webdriver.remote.webelement.WebElement (session=\"67b4f3f8838d6909fe1086d3851be6a9\", element=\"399c1623-8b64-4c61-9308-8b4d6e29e22b\")>]"
      ]
     },
     "execution_count": 70,
     "metadata": {},
     "output_type": "execute_result"
    }
   ],
   "source": [
    "location_tags=driver.find_elements_by_xpath(\"//span[@class='loc css-nq3w9f pr-xxsm']\")\n",
    "location_tags[0:4]"
   ]
  },
  {
   "cell_type": "code",
   "execution_count": 71,
   "metadata": {},
   "outputs": [
    {
     "data": {
      "text/plain": [
       "['Gurgaon',\n",
       " 'Noida',\n",
       " 'Gurgaon',\n",
       " 'Noida',\n",
       " 'Noida',\n",
       " 'Noida',\n",
       " 'Noida',\n",
       " 'Noida',\n",
       " 'Noida',\n",
       " 'Noida']"
      ]
     },
     "execution_count": 71,
     "metadata": {},
     "output_type": "execute_result"
    }
   ],
   "source": [
    "for i in location_tags:\n",
    "    loc=i.text\n",
    "    location_list.append(loc)\n",
    "location_list[0:10]"
   ]
  },
  {
   "cell_type": "code",
   "execution_count": 72,
   "metadata": {},
   "outputs": [],
   "source": [
    "import pandas as pd\n",
    "jobs2=pd.DataFrame({})\n",
    "jobs2['title']=job_titles[0:10]\n",
    "jobs2['company']=company_names[0:10]\n",
    "jobs2['salary']=salary_list[0:10]\n",
    "jobs2['location']=location_list[0:10]"
   ]
  },
  {
   "cell_type": "code",
   "execution_count": 73,
   "metadata": {},
   "outputs": [
    {
     "data": {
      "text/html": [
       "<div>\n",
       "<style scoped>\n",
       "    .dataframe tbody tr th:only-of-type {\n",
       "        vertical-align: middle;\n",
       "    }\n",
       "\n",
       "    .dataframe tbody tr th {\n",
       "        vertical-align: top;\n",
       "    }\n",
       "\n",
       "    .dataframe thead th {\n",
       "        text-align: right;\n",
       "    }\n",
       "</style>\n",
       "<table border=\"1\" class=\"dataframe\">\n",
       "  <thead>\n",
       "    <tr style=\"text-align: right;\">\n",
       "      <th></th>\n",
       "      <th>title</th>\n",
       "      <th>company</th>\n",
       "      <th>salary</th>\n",
       "      <th>location</th>\n",
       "    </tr>\n",
       "  </thead>\n",
       "  <tbody>\n",
       "    <tr>\n",
       "      <th>0</th>\n",
       "      <td>Data Scientist</td>\n",
       "      <td>IHS Markit</td>\n",
       "      <td>₹533K-₹758K (Glassdoor Est.)</td>\n",
       "      <td>Gurgaon</td>\n",
       "    </tr>\n",
       "    <tr>\n",
       "      <th>1</th>\n",
       "      <td>Assistant Manager - Data Scientist</td>\n",
       "      <td>Genpact</td>\n",
       "      <td>₹500K-₹829K (Glassdoor Est.)</td>\n",
       "      <td>Noida</td>\n",
       "    </tr>\n",
       "    <tr>\n",
       "      <th>2</th>\n",
       "      <td>Data Analyst</td>\n",
       "      <td>GroundTruth</td>\n",
       "      <td>₹312K-₹518K (Glassdoor Est.)</td>\n",
       "      <td>Gurgaon</td>\n",
       "    </tr>\n",
       "    <tr>\n",
       "      <th>3</th>\n",
       "      <td>Data Scientist</td>\n",
       "      <td>Gauge Data Solutions</td>\n",
       "      <td>₹312K-₹600K (Glassdoor Est.)</td>\n",
       "      <td>Noida</td>\n",
       "    </tr>\n",
       "    <tr>\n",
       "      <th>4</th>\n",
       "      <td>Data Scientist</td>\n",
       "      <td>MARKTECH CONSULTANCY</td>\n",
       "      <td>₹287K-₹611K (Glassdoor Est.)</td>\n",
       "      <td>Noida</td>\n",
       "    </tr>\n",
       "    <tr>\n",
       "      <th>5</th>\n",
       "      <td>Data Scientist</td>\n",
       "      <td>Algoscale</td>\n",
       "      <td>₹421K-₹480K (Glassdoor Est.)</td>\n",
       "      <td>Noida</td>\n",
       "    </tr>\n",
       "    <tr>\n",
       "      <th>6</th>\n",
       "      <td>Data Scientist</td>\n",
       "      <td>SearchUrCollege</td>\n",
       "      <td>₹313K-₹607K (Glassdoor Est.)</td>\n",
       "      <td>Noida</td>\n",
       "    </tr>\n",
       "    <tr>\n",
       "      <th>7</th>\n",
       "      <td>Data Scientist</td>\n",
       "      <td>Techlive</td>\n",
       "      <td>₹126K-₹600K (Glassdoor Est.)</td>\n",
       "      <td>Noida</td>\n",
       "    </tr>\n",
       "    <tr>\n",
       "      <th>8</th>\n",
       "      <td>Data Scientist</td>\n",
       "      <td>Priority Vendor</td>\n",
       "      <td>₹206K-₹622K (Glassdoor Est.)</td>\n",
       "      <td>Noida</td>\n",
       "    </tr>\n",
       "    <tr>\n",
       "      <th>9</th>\n",
       "      <td>Data Scientist</td>\n",
       "      <td>Biz2Credit Inc</td>\n",
       "      <td>₹420K-₹850K (Glassdoor Est.)</td>\n",
       "      <td>Noida</td>\n",
       "    </tr>\n",
       "  </tbody>\n",
       "</table>\n",
       "</div>"
      ],
      "text/plain": [
       "                                title               company  \\\n",
       "0                      Data Scientist            IHS Markit   \n",
       "1  Assistant Manager - Data Scientist               Genpact   \n",
       "2                        Data Analyst           GroundTruth   \n",
       "3                      Data Scientist  Gauge Data Solutions   \n",
       "4                      Data Scientist  MARKTECH CONSULTANCY   \n",
       "5                      Data Scientist             Algoscale   \n",
       "6                      Data Scientist       SearchUrCollege   \n",
       "7                      Data Scientist              Techlive   \n",
       "8                      Data Scientist       Priority Vendor   \n",
       "9                      Data Scientist        Biz2Credit Inc   \n",
       "\n",
       "                         salary location  \n",
       "0  ₹533K-₹758K (Glassdoor Est.)  Gurgaon  \n",
       "1  ₹500K-₹829K (Glassdoor Est.)    Noida  \n",
       "2  ₹312K-₹518K (Glassdoor Est.)  Gurgaon  \n",
       "3  ₹312K-₹600K (Glassdoor Est.)    Noida  \n",
       "4  ₹287K-₹611K (Glassdoor Est.)    Noida  \n",
       "5  ₹421K-₹480K (Glassdoor Est.)    Noida  \n",
       "6  ₹313K-₹607K (Glassdoor Est.)    Noida  \n",
       "7  ₹126K-₹600K (Glassdoor Est.)    Noida  \n",
       "8  ₹206K-₹622K (Glassdoor Est.)    Noida  \n",
       "9  ₹420K-₹850K (Glassdoor Est.)    Noida  "
      ]
     },
     "execution_count": 73,
     "metadata": {},
     "output_type": "execute_result"
    }
   ],
   "source": [
    "jobs2"
   ]
  },
  {
   "cell_type": "code",
   "execution_count": 74,
   "metadata": {},
   "outputs": [],
   "source": [
    "driver.close()"
   ]
  },
  {
   "cell_type": "markdown",
   "metadata": {},
   "source": [
    "Q5: Write a python program to scrape the salary data for Data Scientist designation\n",
    "in Noida location.\n",
    "You have to scrape Company name, Number of salaries, Average salary, Min\n",
    "salary, Max Salary.\n"
   ]
  },
  {
   "cell_type": "code",
   "execution_count": 92,
   "metadata": {},
   "outputs": [],
   "source": [
    "driver=webdriver.Chrome(r\"C:\\Users\\YaTiKa\\Desktop\\chromedriver.exe\")"
   ]
  },
  {
   "cell_type": "code",
   "execution_count": 93,
   "metadata": {},
   "outputs": [],
   "source": [
    "driver.get('https://www.glassdoor.co.in/Salaries/index.htm')"
   ]
  },
  {
   "cell_type": "code",
   "execution_count": 94,
   "metadata": {},
   "outputs": [],
   "source": [
    "search_job=driver.find_element_by_id('KeywordSearch')\n",
    "search_job.send_keys('Data Scientist')"
   ]
  },
  {
   "cell_type": "code",
   "execution_count": 95,
   "metadata": {},
   "outputs": [],
   "source": [
    "search_loc=driver.find_element_by_id(\"LocationSearch\")\n",
    "search_loc.send_keys(\"Noida\")"
   ]
  },
  {
   "cell_type": "code",
   "execution_count": 96,
   "metadata": {},
   "outputs": [],
   "source": [
    "search_btn=driver.find_element_by_xpath(\"//button[@class='gd-btn-mkt']\")\n",
    "search_btn.click()"
   ]
  },
  {
   "cell_type": "code",
   "execution_count": 97,
   "metadata": {},
   "outputs": [],
   "source": [
    "numberofsalary=[]\n",
    "company_names=[]\n",
    "avg_salary=[]\n",
    "min_salary=[]\n",
    "max_salary=[]"
   ]
  },
  {
   "cell_type": "code",
   "execution_count": 98,
   "metadata": {},
   "outputs": [
    {
     "data": {
      "text/plain": [
       "[<selenium.webdriver.remote.webelement.WebElement (session=\"d6306dd43d5f66157f22cc50a7015a4c\", element=\"295d5954-1221-47fd-835d-2ed55d77045a\")>,\n",
       " <selenium.webdriver.remote.webelement.WebElement (session=\"d6306dd43d5f66157f22cc50a7015a4c\", element=\"5260b672-66ed-4f98-8cb8-04f004ff19b3\")>,\n",
       " <selenium.webdriver.remote.webelement.WebElement (session=\"d6306dd43d5f66157f22cc50a7015a4c\", element=\"bd5488f5-0f3d-4e85-9993-23a2b1812e86\")>,\n",
       " <selenium.webdriver.remote.webelement.WebElement (session=\"d6306dd43d5f66157f22cc50a7015a4c\", element=\"4c2d10b9-a338-4fc4-937c-54c6beb15ac9\")>]"
      ]
     },
     "execution_count": 98,
     "metadata": {},
     "output_type": "execute_result"
    }
   ],
   "source": [
    "name_tags=driver.find_elements_by_xpath(\"//p[@class='m-0 ']\")\n",
    "name_tags[0:4]"
   ]
  },
  {
   "cell_type": "code",
   "execution_count": 99,
   "metadata": {},
   "outputs": [
    {
     "data": {
      "text/plain": [
       "['Delhivery',\n",
       " 'Accenture',\n",
       " 'IBM',\n",
       " 'Ericsson-Worldwide',\n",
       " 'Valiance Solutions',\n",
       " 'Tata Consultancy Services',\n",
       " 'UnitedHealth Group',\n",
       " 'Cognizant Technology Solutions',\n",
       " 'Innovaccer',\n",
       " 'OYO']"
      ]
     },
     "execution_count": 99,
     "metadata": {},
     "output_type": "execute_result"
    }
   ],
   "source": [
    "for i in name_tags:\n",
    "    name=i.text\n",
    "    company_names.append(name)\n",
    "company_names[0:10]"
   ]
  },
  {
   "cell_type": "code",
   "execution_count": 100,
   "metadata": {},
   "outputs": [
    {
     "data": {
      "text/plain": [
       "[<selenium.webdriver.remote.webelement.WebElement (session=\"d6306dd43d5f66157f22cc50a7015a4c\", element=\"9c25d493-03f9-4c32-a07e-efa018cb7bd1\")>,\n",
       " <selenium.webdriver.remote.webelement.WebElement (session=\"d6306dd43d5f66157f22cc50a7015a4c\", element=\"db81725e-bd3b-40ec-9252-b812e3e70dae\")>,\n",
       " <selenium.webdriver.remote.webelement.WebElement (session=\"d6306dd43d5f66157f22cc50a7015a4c\", element=\"5e92c588-c0eb-406c-aca9-4248ef6edad0\")>,\n",
       " <selenium.webdriver.remote.webelement.WebElement (session=\"d6306dd43d5f66157f22cc50a7015a4c\", element=\"52d39719-2c7f-41f4-90f6-9ba7f2926253\")>]"
      ]
     },
     "execution_count": 100,
     "metadata": {},
     "output_type": "execute_result"
    }
   ],
   "source": [
    "salno_tags=driver.find_elements_by_xpath(\"//p[@class='css-1uyte9r css-1kuy7z7 m-0 ' ]\")\n",
    "salno_tags[0:4]"
   ]
  },
  {
   "cell_type": "code",
   "execution_count": 101,
   "metadata": {},
   "outputs": [
    {
     "data": {
      "text/plain": [
       "['13 salaries',\n",
       " '9 salaries',\n",
       " '8 salaries',\n",
       " '8 salaries',\n",
       " '8 salaries',\n",
       " '7 salaries',\n",
       " '7 salaries',\n",
       " '6 salaries',\n",
       " '6 salaries',\n",
       " '5 salaries']"
      ]
     },
     "execution_count": 101,
     "metadata": {},
     "output_type": "execute_result"
    }
   ],
   "source": [
    "for i in salno_tags:\n",
    "    saln=i.text\n",
    "    numberofsalary.append(saln)\n",
    "numberofsalary[0:10]"
   ]
  },
  {
   "cell_type": "code",
   "execution_count": 102,
   "metadata": {},
   "outputs": [
    {
     "data": {
      "text/plain": [
       "[<selenium.webdriver.remote.webelement.WebElement (session=\"d6306dd43d5f66157f22cc50a7015a4c\", element=\"f27c607d-d594-47ae-a297-d40a08ce9268\")>,\n",
       " <selenium.webdriver.remote.webelement.WebElement (session=\"d6306dd43d5f66157f22cc50a7015a4c\", element=\"d46e0f1a-f47f-49bd-b184-0aedb61a1b38\")>,\n",
       " <selenium.webdriver.remote.webelement.WebElement (session=\"d6306dd43d5f66157f22cc50a7015a4c\", element=\"b88e1ea9-1894-4298-90f5-c6e8042b6c6e\")>,\n",
       " <selenium.webdriver.remote.webelement.WebElement (session=\"d6306dd43d5f66157f22cc50a7015a4c\", element=\"98ae4014-9c95-4a2c-90fb-609bec83d234\")>]"
      ]
     },
     "execution_count": 102,
     "metadata": {},
     "output_type": "execute_result"
    }
   ],
   "source": [
    "avg_tags=driver.find_elements_by_xpath(\"//div[@class='col-2 d-none d-md-flex flex-row justify-content-end']/strong\")\n",
    "avg_tags[0:4]"
   ]
  },
  {
   "cell_type": "code",
   "execution_count": 103,
   "metadata": {},
   "outputs": [
    {
     "data": {
      "text/plain": [
       "['₹ 12,49,514',\n",
       " '₹ 11,19,272',\n",
       " '₹ 6,88,601',\n",
       " '₹ 7,80,664',\n",
       " '₹ 7,71,320',\n",
       " '₹ 5,90,406',\n",
       " '₹ 13,21,601',\n",
       " '₹ 9,96,446',\n",
       " '₹ 9,27,677',\n",
       " '₹ 14,00,000']"
      ]
     },
     "execution_count": 103,
     "metadata": {},
     "output_type": "execute_result"
    }
   ],
   "source": [
    "for i in avg_tags:\n",
    "    salavg=i.text\n",
    "    avg_salary.append(salavg)\n",
    "avg_salary[0:10]"
   ]
  },
  {
   "cell_type": "code",
   "execution_count": 105,
   "metadata": {},
   "outputs": [],
   "source": [
    "    count=0\n",
    "    for i in list(driver.find_elements_by_xpath(\"//div[@class='common__RangeBarStyle__values common__flex__justifySpaceBetween common__flex__container ']/span\"))[:18]:\n",
    "        if count%2==0:\n",
    "            min_salary.append(i.text)\n",
    "        else:\n",
    "            max_salary.append(i.text)\n",
    "        count+=1"
   ]
  },
  {
   "cell_type": "code",
   "execution_count": 106,
   "metadata": {},
   "outputs": [
    {
     "data": {
      "text/plain": [
       "['₹445K',\n",
       " '₹445K',\n",
       " '₹571K',\n",
       " '₹580K',\n",
       " '₹468K',\n",
       " '₹496K',\n",
       " '₹360K',\n",
       " '₹708K',\n",
       " '₹784K',\n",
       " '₹614K']"
      ]
     },
     "execution_count": 106,
     "metadata": {},
     "output_type": "execute_result"
    }
   ],
   "source": [
    "min_salary[0:10]"
   ]
  },
  {
   "cell_type": "code",
   "execution_count": 107,
   "metadata": {},
   "outputs": [
    {
     "data": {
      "text/plain": [
       "['₹11,495K',\n",
       " '₹2,200K',\n",
       " '₹2,700K',\n",
       " '₹1,595K',\n",
       " '₹1,138K',\n",
       " '₹1,000K',\n",
       " '₹1,557K',\n",
       " '₹1,250K',\n",
       " '₹1,676K']"
      ]
     },
     "execution_count": 107,
     "metadata": {},
     "output_type": "execute_result"
    }
   ],
   "source": [
    "max_salary[0:10]"
   ]
  },
  {
   "cell_type": "code",
   "execution_count": 109,
   "metadata": {},
   "outputs": [],
   "source": [
    "import pandas as pd\n",
    "jobs3=pd.DataFrame({})\n",
    "jobs3['company']=company_names[0:9]\n",
    "jobs3['average_salary']=avg_salary[0:9]\n",
    "jobs3['number_of_salaries']=numberofsalary[0:9]\n",
    "jobs3['minimum_salary']=min_salary[0:9]\n",
    "jobs3['maximum_salary']=max_salary[0:9]"
   ]
  },
  {
   "cell_type": "code",
   "execution_count": 110,
   "metadata": {},
   "outputs": [
    {
     "data": {
      "text/html": [
       "<div>\n",
       "<style scoped>\n",
       "    .dataframe tbody tr th:only-of-type {\n",
       "        vertical-align: middle;\n",
       "    }\n",
       "\n",
       "    .dataframe tbody tr th {\n",
       "        vertical-align: top;\n",
       "    }\n",
       "\n",
       "    .dataframe thead th {\n",
       "        text-align: right;\n",
       "    }\n",
       "</style>\n",
       "<table border=\"1\" class=\"dataframe\">\n",
       "  <thead>\n",
       "    <tr style=\"text-align: right;\">\n",
       "      <th></th>\n",
       "      <th>company</th>\n",
       "      <th>average_salary</th>\n",
       "      <th>number_of_salaries</th>\n",
       "      <th>minimum_salary</th>\n",
       "      <th>maximum_salary</th>\n",
       "    </tr>\n",
       "  </thead>\n",
       "  <tbody>\n",
       "    <tr>\n",
       "      <th>0</th>\n",
       "      <td>Delhivery</td>\n",
       "      <td>₹ 12,49,514</td>\n",
       "      <td>13 salaries</td>\n",
       "      <td>₹445K</td>\n",
       "      <td>₹11,495K</td>\n",
       "    </tr>\n",
       "    <tr>\n",
       "      <th>1</th>\n",
       "      <td>Accenture</td>\n",
       "      <td>₹ 11,19,272</td>\n",
       "      <td>9 salaries</td>\n",
       "      <td>₹445K</td>\n",
       "      <td>₹2,200K</td>\n",
       "    </tr>\n",
       "    <tr>\n",
       "      <th>2</th>\n",
       "      <td>IBM</td>\n",
       "      <td>₹ 6,88,601</td>\n",
       "      <td>8 salaries</td>\n",
       "      <td>₹571K</td>\n",
       "      <td>₹2,700K</td>\n",
       "    </tr>\n",
       "    <tr>\n",
       "      <th>3</th>\n",
       "      <td>Ericsson-Worldwide</td>\n",
       "      <td>₹ 7,80,664</td>\n",
       "      <td>8 salaries</td>\n",
       "      <td>₹580K</td>\n",
       "      <td>₹1,595K</td>\n",
       "    </tr>\n",
       "    <tr>\n",
       "      <th>4</th>\n",
       "      <td>Valiance Solutions</td>\n",
       "      <td>₹ 7,71,320</td>\n",
       "      <td>8 salaries</td>\n",
       "      <td>₹468K</td>\n",
       "      <td>₹1,138K</td>\n",
       "    </tr>\n",
       "    <tr>\n",
       "      <th>5</th>\n",
       "      <td>Tata Consultancy Services</td>\n",
       "      <td>₹ 5,90,406</td>\n",
       "      <td>7 salaries</td>\n",
       "      <td>₹496K</td>\n",
       "      <td>₹1,000K</td>\n",
       "    </tr>\n",
       "    <tr>\n",
       "      <th>6</th>\n",
       "      <td>UnitedHealth Group</td>\n",
       "      <td>₹ 13,21,601</td>\n",
       "      <td>7 salaries</td>\n",
       "      <td>₹360K</td>\n",
       "      <td>₹1,557K</td>\n",
       "    </tr>\n",
       "    <tr>\n",
       "      <th>7</th>\n",
       "      <td>Cognizant Technology Solutions</td>\n",
       "      <td>₹ 9,96,446</td>\n",
       "      <td>6 salaries</td>\n",
       "      <td>₹708K</td>\n",
       "      <td>₹1,250K</td>\n",
       "    </tr>\n",
       "    <tr>\n",
       "      <th>8</th>\n",
       "      <td>Innovaccer</td>\n",
       "      <td>₹ 9,27,677</td>\n",
       "      <td>6 salaries</td>\n",
       "      <td>₹784K</td>\n",
       "      <td>₹1,676K</td>\n",
       "    </tr>\n",
       "  </tbody>\n",
       "</table>\n",
       "</div>"
      ],
      "text/plain": [
       "                          company average_salary number_of_salaries  \\\n",
       "0                       Delhivery    ₹ 12,49,514        13 salaries   \n",
       "1                       Accenture    ₹ 11,19,272         9 salaries   \n",
       "2                             IBM     ₹ 6,88,601         8 salaries   \n",
       "3              Ericsson-Worldwide     ₹ 7,80,664         8 salaries   \n",
       "4              Valiance Solutions     ₹ 7,71,320         8 salaries   \n",
       "5       Tata Consultancy Services     ₹ 5,90,406         7 salaries   \n",
       "6              UnitedHealth Group    ₹ 13,21,601         7 salaries   \n",
       "7  Cognizant Technology Solutions     ₹ 9,96,446         6 salaries   \n",
       "8                      Innovaccer     ₹ 9,27,677         6 salaries   \n",
       "\n",
       "  minimum_salary maximum_salary  \n",
       "0          ₹445K       ₹11,495K  \n",
       "1          ₹445K        ₹2,200K  \n",
       "2          ₹571K        ₹2,700K  \n",
       "3          ₹580K        ₹1,595K  \n",
       "4          ₹468K        ₹1,138K  \n",
       "5          ₹496K        ₹1,000K  \n",
       "6          ₹360K        ₹1,557K  \n",
       "7          ₹708K        ₹1,250K  \n",
       "8          ₹784K        ₹1,676K  "
      ]
     },
     "execution_count": 110,
     "metadata": {},
     "output_type": "execute_result"
    }
   ],
   "source": [
    "jobs3"
   ]
  },
  {
   "cell_type": "code",
   "execution_count": 112,
   "metadata": {},
   "outputs": [],
   "source": [
    "driver.close()"
   ]
  },
  {
   "cell_type": "markdown",
   "metadata": {},
   "source": [
    "\n",
    "Q6 : Scrape data of first 100 sunglasses listings on flipkart.com. You have to\n",
    "scrape four attributes:\n",
    "1. Brand\n",
    "2. Product Description\n",
    "3. Price\n",
    "4. Discount %\n"
   ]
  },
  {
   "cell_type": "code",
   "execution_count": 2,
   "metadata": {},
   "outputs": [],
   "source": [
    "driver=webdriver.Chrome(r\"C:\\Users\\YaTiKa\\Desktop\\chromedriver.exe\")"
   ]
  },
  {
   "cell_type": "code",
   "execution_count": 3,
   "metadata": {},
   "outputs": [],
   "source": [
    "driver.get('https://www.flipkart.com/')"
   ]
  },
  {
   "cell_type": "code",
   "execution_count": 4,
   "metadata": {},
   "outputs": [],
   "source": [
    "search_product=driver.find_element_by_xpath(\"//input[@title='Search for products, brands and more']\")\n",
    "search_product.send_keys(\"sunglasses\")"
   ]
  },
  {
   "cell_type": "code",
   "execution_count": 5,
   "metadata": {},
   "outputs": [],
   "source": [
    "search_btn=driver.find_element_by_xpath(\"//button[@class='L0Z3Pu']\")\n",
    "search_btn.click()"
   ]
  },
  {
   "cell_type": "code",
   "execution_count": 6,
   "metadata": {},
   "outputs": [],
   "source": [
    "brand=[]\n",
    "price=[]\n",
    "discount=[]"
   ]
  },
  {
   "cell_type": "code",
   "execution_count": 7,
   "metadata": {},
   "outputs": [
    {
     "data": {
      "text/plain": [
       "[<selenium.webdriver.remote.webelement.WebElement (session=\"17221e34b3c5e3652af12bc809d9bf06\", element=\"25dafc2a-2581-472a-9747-057bcf21c4af\")>,\n",
       " <selenium.webdriver.remote.webelement.WebElement (session=\"17221e34b3c5e3652af12bc809d9bf06\", element=\"09761141-fac6-432b-81f5-794396388001\")>,\n",
       " <selenium.webdriver.remote.webelement.WebElement (session=\"17221e34b3c5e3652af12bc809d9bf06\", element=\"dab2f478-1f00-4ef8-9024-80117fbecae2\")>,\n",
       " <selenium.webdriver.remote.webelement.WebElement (session=\"17221e34b3c5e3652af12bc809d9bf06\", element=\"c31bd6fb-34fe-4b42-ad74-c93bd30fda97\")>]"
      ]
     },
     "execution_count": 7,
     "metadata": {},
     "output_type": "execute_result"
    }
   ],
   "source": [
    "brand_tags=driver.find_elements_by_xpath(\"//div[@class='_2WkVRV']\")\n",
    "\n",
    "brand_tags[0:4]"
   ]
  },
  {
   "cell_type": "code",
   "execution_count": 8,
   "metadata": {},
   "outputs": [
    {
     "data": {
      "text/plain": [
       "['I Flash',\n",
       " 'I Flash',\n",
       " 'FDA COLLECTION',\n",
       " 'FDA COLLECTION',\n",
       " 'Phenomenal',\n",
       " 'Fastrack',\n",
       " 'FDA COLLECTION',\n",
       " 'I Flash',\n",
       " 'Rozzetta Craft',\n",
       " 'Phenomenal']"
      ]
     },
     "execution_count": 8,
     "metadata": {},
     "output_type": "execute_result"
    }
   ],
   "source": [
    "for i in brand_tags:\n",
    "    b=i.text\n",
    "    brand.append(b)\n",
    "brand[0:10]"
   ]
  },
  {
   "cell_type": "code",
   "execution_count": 9,
   "metadata": {},
   "outputs": [
    {
     "data": {
      "text/plain": [
       "[<selenium.webdriver.remote.webelement.WebElement (session=\"17221e34b3c5e3652af12bc809d9bf06\", element=\"6e44ebdf-b344-45e9-9fb4-fa326f0eea63\")>,\n",
       " <selenium.webdriver.remote.webelement.WebElement (session=\"17221e34b3c5e3652af12bc809d9bf06\", element=\"b8ce3f4a-b474-44e2-87e2-f022b7d02d93\")>,\n",
       " <selenium.webdriver.remote.webelement.WebElement (session=\"17221e34b3c5e3652af12bc809d9bf06\", element=\"5ab07c95-78b9-4a7f-9e44-c72dfe94e213\")>,\n",
       " <selenium.webdriver.remote.webelement.WebElement (session=\"17221e34b3c5e3652af12bc809d9bf06\", element=\"989d5a8d-441b-48d7-a0a9-436323022208\")>]"
      ]
     },
     "execution_count": 9,
     "metadata": {},
     "output_type": "execute_result"
    }
   ],
   "source": [
    "price_tags=driver.find_elements_by_xpath(\"//div[@class='_30jeq3']\")\n",
    "\n",
    "price_tags[0:4]"
   ]
  },
  {
   "cell_type": "code",
   "execution_count": 10,
   "metadata": {},
   "outputs": [
    {
     "data": {
      "text/plain": [
       "['₹123',\n",
       " '₹170',\n",
       " '₹199',\n",
       " '₹188',\n",
       " '₹379',\n",
       " '₹519',\n",
       " '₹161',\n",
       " '₹151',\n",
       " '₹398',\n",
       " '₹399',\n",
       " '₹331',\n",
       " '₹189',\n",
       " '₹674',\n",
       " '₹233',\n",
       " '₹404',\n",
       " '₹135',\n",
       " '₹449',\n",
       " '₹309',\n",
       " '₹198',\n",
       " '₹527',\n",
       " '₹161',\n",
       " '₹199',\n",
       " '₹201',\n",
       " '₹210',\n",
       " '₹175',\n",
       " '₹175',\n",
       " '₹181',\n",
       " '₹166',\n",
       " '₹160',\n",
       " '₹159',\n",
       " '₹242',\n",
       " '₹283',\n",
       " '₹149',\n",
       " '₹189',\n",
       " '₹189',\n",
       " '₹151',\n",
       " '₹287',\n",
       " '₹165',\n",
       " '₹284',\n",
       " '₹284']"
      ]
     },
     "execution_count": 10,
     "metadata": {},
     "output_type": "execute_result"
    }
   ],
   "source": [
    "for i in price_tags:\n",
    "    p=i.text\n",
    "    price.append(p)\n",
    "price[0:]"
   ]
  },
  {
   "cell_type": "code",
   "execution_count": 11,
   "metadata": {},
   "outputs": [
    {
     "data": {
      "text/plain": [
       "[<selenium.webdriver.remote.webelement.WebElement (session=\"17221e34b3c5e3652af12bc809d9bf06\", element=\"66e5ba72-87cc-48ce-b54f-c0d3b6aecfc1\")>,\n",
       " <selenium.webdriver.remote.webelement.WebElement (session=\"17221e34b3c5e3652af12bc809d9bf06\", element=\"8fc5fbcc-3278-4f04-b708-f64d90891b33\")>,\n",
       " <selenium.webdriver.remote.webelement.WebElement (session=\"17221e34b3c5e3652af12bc809d9bf06\", element=\"7abb766d-5d2e-4cdc-b593-61374dc632d8\")>,\n",
       " <selenium.webdriver.remote.webelement.WebElement (session=\"17221e34b3c5e3652af12bc809d9bf06\", element=\"753bc516-2a27-46d7-ba2a-6dcfea0a9aef\")>]"
      ]
     },
     "execution_count": 11,
     "metadata": {},
     "output_type": "execute_result"
    }
   ],
   "source": [
    "discount_tags=driver.find_elements_by_xpath(\"//div[@class='_3Ay6Sb']/span\")\n",
    "\n",
    "discount_tags[0:4]"
   ]
  },
  {
   "cell_type": "code",
   "execution_count": 12,
   "metadata": {},
   "outputs": [
    {
     "data": {
      "text/plain": [
       "['₹284',\n",
       " '₹284',\n",
       " '₹284',\n",
       " '₹284',\n",
       " '₹284',\n",
       " '₹284',\n",
       " '₹284',\n",
       " '₹284',\n",
       " '₹284',\n",
       " '₹284',\n",
       " '₹284',\n",
       " '₹284',\n",
       " '₹284',\n",
       " '₹284',\n",
       " '₹284',\n",
       " '₹284',\n",
       " '₹284',\n",
       " '₹284',\n",
       " '₹284',\n",
       " '₹284',\n",
       " '₹284',\n",
       " '₹284',\n",
       " '₹284',\n",
       " '₹284',\n",
       " '₹284',\n",
       " '₹284',\n",
       " '₹284',\n",
       " '₹284',\n",
       " '₹284',\n",
       " '₹284',\n",
       " '₹284',\n",
       " '₹284',\n",
       " '₹284',\n",
       " '₹284',\n",
       " '₹284',\n",
       " '₹284',\n",
       " '₹284',\n",
       " '₹284',\n",
       " '₹284',\n",
       " '₹284']"
      ]
     },
     "execution_count": 12,
     "metadata": {},
     "output_type": "execute_result"
    }
   ],
   "source": [
    "for i in discount_tags:\n",
    "    d=i.text\n",
    "    discount.append(p)\n",
    "discount[0:]"
   ]
  },
  {
   "cell_type": "code",
   "execution_count": 13,
   "metadata": {},
   "outputs": [],
   "source": [
    "nxt_button=driver.find_element_by_xpath(\"//a[@class='_1LKTO3']/span\")\n",
    "       \n",
    "nxt_button.click()\n",
    "         \n"
   ]
  },
  {
   "cell_type": "code",
   "execution_count": 14,
   "metadata": {},
   "outputs": [
    {
     "data": {
      "text/plain": [
       "[<selenium.webdriver.remote.webelement.WebElement (session=\"17221e34b3c5e3652af12bc809d9bf06\", element=\"aa940d04-83b4-4a0a-83cc-bea019ef3cc9\")>,\n",
       " <selenium.webdriver.remote.webelement.WebElement (session=\"17221e34b3c5e3652af12bc809d9bf06\", element=\"c70dad5c-d0bb-4b03-8c9a-08f7de9312de\")>,\n",
       " <selenium.webdriver.remote.webelement.WebElement (session=\"17221e34b3c5e3652af12bc809d9bf06\", element=\"27ce0962-7ae3-446f-9306-a244635d39db\")>,\n",
       " <selenium.webdriver.remote.webelement.WebElement (session=\"17221e34b3c5e3652af12bc809d9bf06\", element=\"688e2a19-b1f5-4f0c-baa5-81f8c8827d79\")>]"
      ]
     },
     "execution_count": 14,
     "metadata": {},
     "output_type": "execute_result"
    }
   ],
   "source": [
    "brand_tags=driver.find_elements_by_xpath(\"//div[@class='_2WkVRV']\")\n",
    "\n",
    "brand_tags[0:4]"
   ]
  },
  {
   "cell_type": "code",
   "execution_count": 15,
   "metadata": {},
   "outputs": [
    {
     "data": {
      "text/plain": [
       "['I Flash',\n",
       " 'I Flash',\n",
       " 'FDA COLLECTION',\n",
       " 'FDA COLLECTION',\n",
       " 'Phenomenal',\n",
       " 'Fastrack',\n",
       " 'FDA COLLECTION',\n",
       " 'I Flash',\n",
       " 'Rozzetta Craft',\n",
       " 'Phenomenal']"
      ]
     },
     "execution_count": 15,
     "metadata": {},
     "output_type": "execute_result"
    }
   ],
   "source": [
    "for i in brand_tags:\n",
    "    b=i.text\n",
    "    brand.append(b)\n",
    "brand[0:10]"
   ]
  },
  {
   "cell_type": "code",
   "execution_count": 16,
   "metadata": {},
   "outputs": [
    {
     "data": {
      "text/plain": [
       "80"
      ]
     },
     "execution_count": 16,
     "metadata": {},
     "output_type": "execute_result"
    }
   ],
   "source": [
    "len(brand)"
   ]
  },
  {
   "cell_type": "code",
   "execution_count": 17,
   "metadata": {},
   "outputs": [
    {
     "data": {
      "text/plain": [
       "[<selenium.webdriver.remote.webelement.WebElement (session=\"17221e34b3c5e3652af12bc809d9bf06\", element=\"b32d9d4f-3231-4afe-883d-4581b7628773\")>,\n",
       " <selenium.webdriver.remote.webelement.WebElement (session=\"17221e34b3c5e3652af12bc809d9bf06\", element=\"519a90b2-a4c4-4ccd-8092-e23ed53a172c\")>,\n",
       " <selenium.webdriver.remote.webelement.WebElement (session=\"17221e34b3c5e3652af12bc809d9bf06\", element=\"4bac74bc-c30e-4a96-920e-fb7952d31c12\")>,\n",
       " <selenium.webdriver.remote.webelement.WebElement (session=\"17221e34b3c5e3652af12bc809d9bf06\", element=\"759ecba5-92b7-4c83-b2dd-e209d22f3752\")>]"
      ]
     },
     "execution_count": 17,
     "metadata": {},
     "output_type": "execute_result"
    }
   ],
   "source": [
    "price_tags=driver.find_elements_by_xpath(\"//div[@class='_30jeq3']\")\n",
    "\n",
    "price_tags[0:4]"
   ]
  },
  {
   "cell_type": "code",
   "execution_count": 18,
   "metadata": {},
   "outputs": [
    {
     "data": {
      "text/plain": [
       "['₹123',\n",
       " '₹170',\n",
       " '₹199',\n",
       " '₹188',\n",
       " '₹379',\n",
       " '₹519',\n",
       " '₹161',\n",
       " '₹151',\n",
       " '₹398',\n",
       " '₹399']"
      ]
     },
     "execution_count": 18,
     "metadata": {},
     "output_type": "execute_result"
    }
   ],
   "source": [
    "for i in price_tags:\n",
    "    p=i.text\n",
    "    price.append(p)\n",
    "price[0:10]"
   ]
  },
  {
   "cell_type": "code",
   "execution_count": 19,
   "metadata": {},
   "outputs": [
    {
     "data": {
      "text/plain": [
       "80"
      ]
     },
     "execution_count": 19,
     "metadata": {},
     "output_type": "execute_result"
    }
   ],
   "source": [
    "len(price)"
   ]
  },
  {
   "cell_type": "code",
   "execution_count": 20,
   "metadata": {},
   "outputs": [
    {
     "data": {
      "text/plain": [
       "[<selenium.webdriver.remote.webelement.WebElement (session=\"17221e34b3c5e3652af12bc809d9bf06\", element=\"85860c71-e661-46fa-8a05-d3d0d33a000f\")>,\n",
       " <selenium.webdriver.remote.webelement.WebElement (session=\"17221e34b3c5e3652af12bc809d9bf06\", element=\"64bc34d5-0c6d-477b-8b91-2ad665c860dc\")>,\n",
       " <selenium.webdriver.remote.webelement.WebElement (session=\"17221e34b3c5e3652af12bc809d9bf06\", element=\"5205fc33-b935-4d46-b575-2b3c4769a0d0\")>,\n",
       " <selenium.webdriver.remote.webelement.WebElement (session=\"17221e34b3c5e3652af12bc809d9bf06\", element=\"ab60fc21-f527-42a1-a8b6-b06b836781b9\")>]"
      ]
     },
     "execution_count": 20,
     "metadata": {},
     "output_type": "execute_result"
    }
   ],
   "source": [
    "discount_tags=driver.find_elements_by_xpath(\"//div[@class='_3Ay6Sb']/span\")\n",
    "\n",
    "discount_tags[0:4]"
   ]
  },
  {
   "cell_type": "code",
   "execution_count": 21,
   "metadata": {},
   "outputs": [
    {
     "data": {
      "text/plain": [
       "['₹284',\n",
       " '₹284',\n",
       " '₹284',\n",
       " '₹284',\n",
       " '₹284',\n",
       " '₹284',\n",
       " '₹284',\n",
       " '₹284',\n",
       " '₹284',\n",
       " '₹284']"
      ]
     },
     "execution_count": 21,
     "metadata": {},
     "output_type": "execute_result"
    }
   ],
   "source": [
    "for i in discount_tags:\n",
    "    d=i.text\n",
    "    discount.append(p)\n",
    "discount[0:10]"
   ]
  },
  {
   "cell_type": "code",
   "execution_count": 22,
   "metadata": {},
   "outputs": [
    {
     "data": {
      "text/plain": [
       "80"
      ]
     },
     "execution_count": 22,
     "metadata": {},
     "output_type": "execute_result"
    }
   ],
   "source": [
    "len(discount)"
   ]
  },
  {
   "cell_type": "code",
   "execution_count": 23,
   "metadata": {},
   "outputs": [],
   "source": [
    "nxt_button=driver.find_element_by_xpath(\"//a[@class='_1LKTO3']/span\")\n",
    "       \n",
    "nxt_button.click()"
   ]
  },
  {
   "cell_type": "code",
   "execution_count": 24,
   "metadata": {},
   "outputs": [
    {
     "data": {
      "text/plain": [
       "[<selenium.webdriver.remote.webelement.WebElement (session=\"17221e34b3c5e3652af12bc809d9bf06\", element=\"36daea96-8346-46fa-9d99-1e2cfb63b96b\")>,\n",
       " <selenium.webdriver.remote.webelement.WebElement (session=\"17221e34b3c5e3652af12bc809d9bf06\", element=\"cef2a443-961d-4085-9dd7-1dee60a3fe89\")>,\n",
       " <selenium.webdriver.remote.webelement.WebElement (session=\"17221e34b3c5e3652af12bc809d9bf06\", element=\"b5cc9754-f94f-4e64-a21b-1f95080dbd1e\")>,\n",
       " <selenium.webdriver.remote.webelement.WebElement (session=\"17221e34b3c5e3652af12bc809d9bf06\", element=\"f6599ed7-7722-4dd4-b579-515b3453063b\")>]"
      ]
     },
     "execution_count": 24,
     "metadata": {},
     "output_type": "execute_result"
    }
   ],
   "source": [
    "brand_tags=driver.find_elements_by_xpath(\"//div[@class='_2WkVRV']\")\n",
    "\n",
    "brand_tags[0:4]"
   ]
  },
  {
   "cell_type": "code",
   "execution_count": 25,
   "metadata": {},
   "outputs": [
    {
     "data": {
      "text/plain": [
       "['NKZ',\n",
       " 'Royal Son',\n",
       " 'JOHAENA',\n",
       " 'Royal Son',\n",
       " 'PIRASO',\n",
       " 'Badfella',\n",
       " 'RPR',\n",
       " 'MAXX',\n",
       " 'kingsunglasses',\n",
       " 'funglasses',\n",
       " 'dannilo',\n",
       " 'dannilo',\n",
       " 'POLOSHADES',\n",
       " 'Royal Son',\n",
       " 'funglasses',\n",
       " 'Dannilo',\n",
       " 'Phenomenal',\n",
       " 'shah collections',\n",
       " 'ROYAL SON',\n",
       " 'Royal Son']"
      ]
     },
     "execution_count": 25,
     "metadata": {},
     "output_type": "execute_result"
    }
   ],
   "source": [
    "for i in brand_tags:\n",
    "    b=i.text\n",
    "    brand.append(b)\n",
    "brand[80:100]"
   ]
  },
  {
   "cell_type": "code",
   "execution_count": 26,
   "metadata": {},
   "outputs": [
    {
     "data": {
      "text/plain": [
       "[<selenium.webdriver.remote.webelement.WebElement (session=\"17221e34b3c5e3652af12bc809d9bf06\", element=\"9e089fe4-c1bd-4230-918a-d270617d02b6\")>,\n",
       " <selenium.webdriver.remote.webelement.WebElement (session=\"17221e34b3c5e3652af12bc809d9bf06\", element=\"d910e0a3-cb90-4e8d-b7b8-1c734fd97670\")>,\n",
       " <selenium.webdriver.remote.webelement.WebElement (session=\"17221e34b3c5e3652af12bc809d9bf06\", element=\"576deb7a-c29d-4d4f-87d6-a8bc0b420459\")>,\n",
       " <selenium.webdriver.remote.webelement.WebElement (session=\"17221e34b3c5e3652af12bc809d9bf06\", element=\"eb8a3955-7c96-4402-9d5c-f4b84415c10b\")>]"
      ]
     },
     "execution_count": 26,
     "metadata": {},
     "output_type": "execute_result"
    }
   ],
   "source": [
    "price_tags=driver.find_elements_by_xpath(\"//div[@class='_30jeq3']\")\n",
    "\n",
    "price_tags[0:4]"
   ]
  },
  {
   "cell_type": "code",
   "execution_count": 27,
   "metadata": {},
   "outputs": [
    {
     "data": {
      "text/plain": [
       "['₹248',\n",
       " '₹224',\n",
       " '₹120',\n",
       " '₹615',\n",
       " '₹188',\n",
       " '₹269',\n",
       " '₹165',\n",
       " '₹210',\n",
       " '₹284',\n",
       " '₹198',\n",
       " '₹179',\n",
       " '₹171',\n",
       " '₹125',\n",
       " '₹615',\n",
       " '₹189',\n",
       " '₹189',\n",
       " '₹360',\n",
       " '₹198',\n",
       " '₹527',\n",
       " '₹189']"
      ]
     },
     "execution_count": 27,
     "metadata": {},
     "output_type": "execute_result"
    }
   ],
   "source": [
    "for i in price_tags:\n",
    "    p=i.text\n",
    "    price.append(p)\n",
    "price[80:100]"
   ]
  },
  {
   "cell_type": "code",
   "execution_count": 28,
   "metadata": {},
   "outputs": [
    {
     "data": {
      "text/plain": [
       "(120, 120)"
      ]
     },
     "execution_count": 28,
     "metadata": {},
     "output_type": "execute_result"
    }
   ],
   "source": [
    "len(brand),len(price)"
   ]
  },
  {
   "cell_type": "code",
   "execution_count": 34,
   "metadata": {},
   "outputs": [
    {
     "data": {
      "text/plain": [
       "[<selenium.webdriver.remote.webelement.WebElement (session=\"17221e34b3c5e3652af12bc809d9bf06\", element=\"4898edba-6046-4ff6-a2cc-23d0316a830c\")>,\n",
       " <selenium.webdriver.remote.webelement.WebElement (session=\"17221e34b3c5e3652af12bc809d9bf06\", element=\"8766d8fd-d8bd-4ef9-8afe-e81df26e09ab\")>,\n",
       " <selenium.webdriver.remote.webelement.WebElement (session=\"17221e34b3c5e3652af12bc809d9bf06\", element=\"6f4e66cf-890a-41e8-8409-7ff9724366fd\")>,\n",
       " <selenium.webdriver.remote.webelement.WebElement (session=\"17221e34b3c5e3652af12bc809d9bf06\", element=\"ff54d38c-f426-4275-9092-a69e7646b8ec\")>,\n",
       " <selenium.webdriver.remote.webelement.WebElement (session=\"17221e34b3c5e3652af12bc809d9bf06\", element=\"28db6a25-3569-4b6c-8fbf-a30c2348a71d\")>,\n",
       " <selenium.webdriver.remote.webelement.WebElement (session=\"17221e34b3c5e3652af12bc809d9bf06\", element=\"001d06a9-8750-4c93-8671-d07c0105a86c\")>,\n",
       " <selenium.webdriver.remote.webelement.WebElement (session=\"17221e34b3c5e3652af12bc809d9bf06\", element=\"ce481d51-3578-4ab7-a7cb-eeb7a3ba3255\")>,\n",
       " <selenium.webdriver.remote.webelement.WebElement (session=\"17221e34b3c5e3652af12bc809d9bf06\", element=\"13b9b0b1-2504-424d-b3a8-ff9961664a5e\")>,\n",
       " <selenium.webdriver.remote.webelement.WebElement (session=\"17221e34b3c5e3652af12bc809d9bf06\", element=\"5c2916eb-73ad-487c-b7a9-55a3f92ef14b\")>,\n",
       " <selenium.webdriver.remote.webelement.WebElement (session=\"17221e34b3c5e3652af12bc809d9bf06\", element=\"f06f926f-535f-4d9c-a935-1d859d6d28a3\")>]"
      ]
     },
     "execution_count": 34,
     "metadata": {},
     "output_type": "execute_result"
    }
   ],
   "source": [
    "discount_tags=driver.find_elements_by_xpath(\"//div[@class='_3Ay6Sb']/span\")\n",
    "\n",
    "discount_tags[0:10]"
   ]
  },
  {
   "cell_type": "code",
   "execution_count": 35,
   "metadata": {},
   "outputs": [
    {
     "data": {
      "text/plain": [
       "['₹799',\n",
       " '₹799',\n",
       " '₹799',\n",
       " '₹799',\n",
       " '₹799',\n",
       " '₹799',\n",
       " '₹799',\n",
       " '₹799',\n",
       " '₹799',\n",
       " '₹799',\n",
       " '₹799',\n",
       " '₹799',\n",
       " '₹799',\n",
       " '₹799',\n",
       " '₹799',\n",
       " '₹799',\n",
       " '₹799',\n",
       " '₹799',\n",
       " '₹799',\n",
       " '₹799']"
      ]
     },
     "execution_count": 35,
     "metadata": {},
     "output_type": "execute_result"
    }
   ],
   "source": [
    "for i in discount_tags:\n",
    "    d=i.text\n",
    "    discount.append(p)\n",
    "discount[80:100]"
   ]
  },
  {
   "cell_type": "code",
   "execution_count": 36,
   "metadata": {},
   "outputs": [
    {
     "data": {
      "text/plain": [
       "120"
      ]
     },
     "execution_count": 36,
     "metadata": {},
     "output_type": "execute_result"
    }
   ],
   "source": [
    "len(discount)"
   ]
  },
  {
   "cell_type": "code",
   "execution_count": 37,
   "metadata": {},
   "outputs": [],
   "source": [
    "import pandas as pd\n",
    "sunglasses=pd.DataFrame({})\n",
    "sunglasses['brand']=brand[0:100]\n",
    "sunglasses['price']=price[0:100]\n",
    "sunglasses['discount']=discount[0:100]\n"
   ]
  },
  {
   "cell_type": "code",
   "execution_count": 38,
   "metadata": {},
   "outputs": [
    {
     "data": {
      "text/html": [
       "<div>\n",
       "<style scoped>\n",
       "    .dataframe tbody tr th:only-of-type {\n",
       "        vertical-align: middle;\n",
       "    }\n",
       "\n",
       "    .dataframe tbody tr th {\n",
       "        vertical-align: top;\n",
       "    }\n",
       "\n",
       "    .dataframe thead th {\n",
       "        text-align: right;\n",
       "    }\n",
       "</style>\n",
       "<table border=\"1\" class=\"dataframe\">\n",
       "  <thead>\n",
       "    <tr style=\"text-align: right;\">\n",
       "      <th></th>\n",
       "      <th>brand</th>\n",
       "      <th>price</th>\n",
       "      <th>discount</th>\n",
       "    </tr>\n",
       "  </thead>\n",
       "  <tbody>\n",
       "    <tr>\n",
       "      <th>0</th>\n",
       "      <td>I Flash</td>\n",
       "      <td>₹123</td>\n",
       "      <td>₹284</td>\n",
       "    </tr>\n",
       "    <tr>\n",
       "      <th>1</th>\n",
       "      <td>I Flash</td>\n",
       "      <td>₹170</td>\n",
       "      <td>₹284</td>\n",
       "    </tr>\n",
       "    <tr>\n",
       "      <th>2</th>\n",
       "      <td>FDA COLLECTION</td>\n",
       "      <td>₹199</td>\n",
       "      <td>₹284</td>\n",
       "    </tr>\n",
       "    <tr>\n",
       "      <th>3</th>\n",
       "      <td>FDA COLLECTION</td>\n",
       "      <td>₹188</td>\n",
       "      <td>₹284</td>\n",
       "    </tr>\n",
       "    <tr>\n",
       "      <th>4</th>\n",
       "      <td>Phenomenal</td>\n",
       "      <td>₹379</td>\n",
       "      <td>₹284</td>\n",
       "    </tr>\n",
       "    <tr>\n",
       "      <th>...</th>\n",
       "      <td>...</td>\n",
       "      <td>...</td>\n",
       "      <td>...</td>\n",
       "    </tr>\n",
       "    <tr>\n",
       "      <th>95</th>\n",
       "      <td>Dannilo</td>\n",
       "      <td>₹189</td>\n",
       "      <td>₹799</td>\n",
       "    </tr>\n",
       "    <tr>\n",
       "      <th>96</th>\n",
       "      <td>Phenomenal</td>\n",
       "      <td>₹360</td>\n",
       "      <td>₹799</td>\n",
       "    </tr>\n",
       "    <tr>\n",
       "      <th>97</th>\n",
       "      <td>shah collections</td>\n",
       "      <td>₹198</td>\n",
       "      <td>₹799</td>\n",
       "    </tr>\n",
       "    <tr>\n",
       "      <th>98</th>\n",
       "      <td>ROYAL SON</td>\n",
       "      <td>₹527</td>\n",
       "      <td>₹799</td>\n",
       "    </tr>\n",
       "    <tr>\n",
       "      <th>99</th>\n",
       "      <td>Royal Son</td>\n",
       "      <td>₹189</td>\n",
       "      <td>₹799</td>\n",
       "    </tr>\n",
       "  </tbody>\n",
       "</table>\n",
       "<p>100 rows × 3 columns</p>\n",
       "</div>"
      ],
      "text/plain": [
       "               brand price discount\n",
       "0            I Flash  ₹123     ₹284\n",
       "1            I Flash  ₹170     ₹284\n",
       "2     FDA COLLECTION  ₹199     ₹284\n",
       "3     FDA COLLECTION  ₹188     ₹284\n",
       "4         Phenomenal  ₹379     ₹284\n",
       "..               ...   ...      ...\n",
       "95           Dannilo  ₹189     ₹799\n",
       "96        Phenomenal  ₹360     ₹799\n",
       "97  shah collections  ₹198     ₹799\n",
       "98         ROYAL SON  ₹527     ₹799\n",
       "99         Royal Son  ₹189     ₹799\n",
       "\n",
       "[100 rows x 3 columns]"
      ]
     },
     "execution_count": 38,
     "metadata": {},
     "output_type": "execute_result"
    }
   ],
   "source": [
    "sunglasses"
   ]
  },
  {
   "cell_type": "code",
   "execution_count": 39,
   "metadata": {},
   "outputs": [],
   "source": [
    "driver.close()"
   ]
  },
  {
   "cell_type": "markdown",
   "metadata": {},
   "source": [
    "Q7: Scrape 100 reviews data from flipkart.com for iphone11 phone."
   ]
  },
  {
   "cell_type": "code",
   "execution_count": 40,
   "metadata": {},
   "outputs": [],
   "source": [
    "driver=webdriver.Chrome(r\"C:\\Users\\YaTiKa\\Desktop\\chromedriver.exe\")"
   ]
  },
  {
   "cell_type": "code",
   "execution_count": 41,
   "metadata": {},
   "outputs": [],
   "source": [
    "driver.get('https://www.flipkart.com/apple-iphone-11-black-64-gb-includes-earpods-power-adapter/p/itm0f37c2240b217?pid=MOBFKCTSVZAXUHGR&lid=LSTMOBFKCTSVZAXUHGREPBFGI&marketplace')"
   ]
  },
  {
   "cell_type": "code",
   "execution_count": 42,
   "metadata": {},
   "outputs": [],
   "source": [
    "    start_page=0\n",
    "    end_page=10\n",
    "    \n",
    "    rating=[]\n",
    "    \n",
    "    \n",
    "    for page in range(start_page,end_page+1):\n",
    "        rating_tags=driver.find_elements_by_xpath(\"//div[@class='_3LWZlK _1BLPMq']\")\n",
    "      \n",
    "        for i in rating_tags:\n",
    "                r=i.text\n",
    "                rating.append(r)\n",
    "\n",
    "    \n",
    "        nxt_button=driver.find_element_by_xpath(\"//a[@class='_1LKTO3']/span\")\n",
    "        if nxt_button.text=='Next':\n",
    "            nxt_button.click()\n",
    "            time.sleep(5)\n"
   ]
  },
  {
   "cell_type": "code",
   "execution_count": 43,
   "metadata": {},
   "outputs": [
    {
     "data": {
      "text/plain": [
       "['5', '5', '5', '5', '5', '5', '5', '5', '4', '5']"
      ]
     },
     "execution_count": 43,
     "metadata": {},
     "output_type": "execute_result"
    }
   ],
   "source": [
    "rating[0:10]"
   ]
  },
  {
   "cell_type": "code",
   "execution_count": 45,
   "metadata": {},
   "outputs": [
    {
     "data": {
      "text/plain": [
       "110"
      ]
     },
     "execution_count": 45,
     "metadata": {},
     "output_type": "execute_result"
    }
   ],
   "source": [
    "len(rating)"
   ]
  },
  {
   "cell_type": "code",
   "execution_count": 47,
   "metadata": {},
   "outputs": [],
   "source": [
    "    start_page=0\n",
    "    end_page=10\n",
    "    \n",
    "    Review_summary=[]\n",
    "    \n",
    "    \n",
    "    for page in range(start_page,end_page+1):\n",
    "        summary_tags=driver.find_elements_by_xpath(\"//p[@class='_2-N8zT']\")\n",
    "      \n",
    "        for i in summary_tags:\n",
    "                s=i.text\n",
    "                Review_summary.append(s)\n",
    "\n",
    "    \n",
    "        nxt_button=driver.find_element_by_xpath(\"//a[@class='_1LKTO3']/span\")\n",
    "        if nxt_button.text=='Next':\n",
    "            nxt_button.click()\n",
    "            time.sleep(5)\n"
   ]
  },
  {
   "cell_type": "code",
   "execution_count": 48,
   "metadata": {},
   "outputs": [
    {
     "data": {
      "text/plain": [
       "110"
      ]
     },
     "execution_count": 48,
     "metadata": {},
     "output_type": "execute_result"
    }
   ],
   "source": [
    "len(Review_summary)"
   ]
  },
  {
   "cell_type": "code",
   "execution_count": 49,
   "metadata": {},
   "outputs": [],
   "source": [
    "    start_page=0\n",
    "    end_page=10\n",
    "    \n",
    "    full_review=[]\n",
    "    \n",
    "    \n",
    "    for page in range(start_page,end_page+1):\n",
    "        full_tags=driver.find_elements_by_xpath(\"//div[@class='t-ZTKy']\")\n",
    "      \n",
    "        for i in full_tags:\n",
    "                f=i.text\n",
    "                full_review.append(f)\n",
    "\n",
    "    \n",
    "        nxt_button=driver.find_element_by_xpath(\"//a[@class='_1LKTO3']/span\")\n",
    "        if nxt_button.text=='Next':\n",
    "            nxt_button.click()\n",
    "            time.sleep(5)\n"
   ]
  },
  {
   "cell_type": "code",
   "execution_count": 50,
   "metadata": {},
   "outputs": [
    {
     "data": {
      "text/plain": [
       "110"
      ]
     },
     "execution_count": 50,
     "metadata": {},
     "output_type": "execute_result"
    }
   ],
   "source": [
    "len(full_review)"
   ]
  },
  {
   "cell_type": "code",
   "execution_count": 51,
   "metadata": {},
   "outputs": [],
   "source": [
    "import pandas as pd\n",
    "iphone=pd.DataFrame({})\n",
    "iphone['Rating']=rating[0:100]\n",
    "iphone['Review_summary']= Review_summary[0:100]\n",
    "iphone['Full_review']=full_review[0:100]"
   ]
  },
  {
   "cell_type": "code",
   "execution_count": 52,
   "metadata": {},
   "outputs": [
    {
     "data": {
      "text/html": [
       "<div>\n",
       "<style scoped>\n",
       "    .dataframe tbody tr th:only-of-type {\n",
       "        vertical-align: middle;\n",
       "    }\n",
       "\n",
       "    .dataframe tbody tr th {\n",
       "        vertical-align: top;\n",
       "    }\n",
       "\n",
       "    .dataframe thead th {\n",
       "        text-align: right;\n",
       "    }\n",
       "</style>\n",
       "<table border=\"1\" class=\"dataframe\">\n",
       "  <thead>\n",
       "    <tr style=\"text-align: right;\">\n",
       "      <th></th>\n",
       "      <th>Rating</th>\n",
       "      <th>Review_summary</th>\n",
       "      <th>Full_review</th>\n",
       "    </tr>\n",
       "  </thead>\n",
       "  <tbody>\n",
       "    <tr>\n",
       "      <th>0</th>\n",
       "      <td>5</td>\n",
       "      <td>Perfect product!</td>\n",
       "      <td>Amazing phone with great cameras and better ba...</td>\n",
       "    </tr>\n",
       "    <tr>\n",
       "      <th>1</th>\n",
       "      <td>5</td>\n",
       "      <td>Great product</td>\n",
       "      <td>Amazing Powerful and Durable Gadget.\\n\\nI’m am...</td>\n",
       "    </tr>\n",
       "    <tr>\n",
       "      <th>2</th>\n",
       "      <td>5</td>\n",
       "      <td>Perfect product!</td>\n",
       "      <td>It’s a must buy who is looking for an upgrade ...</td>\n",
       "    </tr>\n",
       "    <tr>\n",
       "      <th>3</th>\n",
       "      <td>5</td>\n",
       "      <td>Highly recommended</td>\n",
       "      <td>iphone 11 is a very good phone to buy only if ...</td>\n",
       "    </tr>\n",
       "    <tr>\n",
       "      <th>4</th>\n",
       "      <td>5</td>\n",
       "      <td>Perfect product!</td>\n",
       "      <td>Value for money❤️❤️\\nIts awesome mobile phone ...</td>\n",
       "    </tr>\n",
       "    <tr>\n",
       "      <th>...</th>\n",
       "      <td>...</td>\n",
       "      <td>...</td>\n",
       "      <td>...</td>\n",
       "    </tr>\n",
       "    <tr>\n",
       "      <th>95</th>\n",
       "      <td>5</td>\n",
       "      <td>Worth every penny</td>\n",
       "      <td>Best budget Iphone till date ❤️ go for it guys...</td>\n",
       "    </tr>\n",
       "    <tr>\n",
       "      <th>96</th>\n",
       "      <td>5</td>\n",
       "      <td>Worth every penny</td>\n",
       "      <td>It’s been almost a month since I have been usi...</td>\n",
       "    </tr>\n",
       "    <tr>\n",
       "      <th>97</th>\n",
       "      <td>5</td>\n",
       "      <td>Perfect product!</td>\n",
       "      <td>Iphone is just awesome.. battery backup is ver...</td>\n",
       "    </tr>\n",
       "    <tr>\n",
       "      <th>98</th>\n",
       "      <td>4</td>\n",
       "      <td>Nice product</td>\n",
       "      <td>Awesome Phone. Slightly high price but worth. ...</td>\n",
       "    </tr>\n",
       "    <tr>\n",
       "      <th>99</th>\n",
       "      <td>5</td>\n",
       "      <td>Wonderful</td>\n",
       "      <td>*Review after 10 months of usage*\\nDoesn't see...</td>\n",
       "    </tr>\n",
       "  </tbody>\n",
       "</table>\n",
       "<p>100 rows × 3 columns</p>\n",
       "</div>"
      ],
      "text/plain": [
       "   Rating      Review_summary  \\\n",
       "0       5    Perfect product!   \n",
       "1       5       Great product   \n",
       "2       5    Perfect product!   \n",
       "3       5  Highly recommended   \n",
       "4       5    Perfect product!   \n",
       "..    ...                 ...   \n",
       "95      5   Worth every penny   \n",
       "96      5   Worth every penny   \n",
       "97      5    Perfect product!   \n",
       "98      4        Nice product   \n",
       "99      5           Wonderful   \n",
       "\n",
       "                                          Full_review  \n",
       "0   Amazing phone with great cameras and better ba...  \n",
       "1   Amazing Powerful and Durable Gadget.\\n\\nI’m am...  \n",
       "2   It’s a must buy who is looking for an upgrade ...  \n",
       "3   iphone 11 is a very good phone to buy only if ...  \n",
       "4   Value for money❤️❤️\\nIts awesome mobile phone ...  \n",
       "..                                                ...  \n",
       "95  Best budget Iphone till date ❤️ go for it guys...  \n",
       "96  It’s been almost a month since I have been usi...  \n",
       "97  Iphone is just awesome.. battery backup is ver...  \n",
       "98  Awesome Phone. Slightly high price but worth. ...  \n",
       "99  *Review after 10 months of usage*\\nDoesn't see...  \n",
       "\n",
       "[100 rows x 3 columns]"
      ]
     },
     "execution_count": 52,
     "metadata": {},
     "output_type": "execute_result"
    }
   ],
   "source": [
    "iphone"
   ]
  },
  {
   "cell_type": "code",
   "execution_count": 53,
   "metadata": {},
   "outputs": [],
   "source": [
    "driver.close()"
   ]
  },
  {
   "cell_type": "markdown",
   "metadata": {},
   "source": [
    "Q8: Scrape data for first 100 sneakers you find when you visit flipkart.com and\n",
    "search for “sneakers” in the search field.\n",
    "You have to scrape 4 attributes of each sneaker :\n",
    "1. Brand\n",
    "2. Product Description\n",
    "3. Price\n",
    "4. discount %"
   ]
  },
  {
   "cell_type": "code",
   "execution_count": 54,
   "metadata": {},
   "outputs": [],
   "source": [
    "driver=webdriver.Chrome(r\"C:\\Users\\YaTiKa\\Desktop\\chromedriver.exe\")"
   ]
  },
  {
   "cell_type": "code",
   "execution_count": 55,
   "metadata": {},
   "outputs": [],
   "source": [
    "driver.get('https://www.flipkart.com/')"
   ]
  },
  {
   "cell_type": "code",
   "execution_count": 56,
   "metadata": {},
   "outputs": [],
   "source": [
    "search_product=driver.find_element_by_xpath(\"//input[@title='Search for products, brands and more']\")\n",
    "search_product.send_keys(\"sneakers\")"
   ]
  },
  {
   "cell_type": "code",
   "execution_count": 57,
   "metadata": {},
   "outputs": [],
   "source": [
    "search_btn=driver.find_element_by_xpath(\"//button[@class='L0Z3Pu']\")\n",
    "search_btn.click()"
   ]
  },
  {
   "cell_type": "code",
   "execution_count": 58,
   "metadata": {},
   "outputs": [],
   "source": [
    "    start_page=0\n",
    "    end_page=3\n",
    "    \n",
    "    Brand=[]\n",
    "    \n",
    "    \n",
    "    for page in range(start_page,end_page+1):\n",
    "        b_tags=driver.find_elements_by_xpath(\"//div[@class='_2WkVRV']\")\n",
    "      \n",
    "        for i in b_tags:\n",
    "                b=i.text\n",
    "                Brand.append(b)\n",
    "\n",
    "    \n",
    "        nxt_button=driver.find_element_by_xpath(\"//a[@class='_1LKTO3']/span\")\n",
    "        if nxt_button.text=='Next':\n",
    "            nxt_button.click()\n",
    "            time.sleep(5)\n"
   ]
  },
  {
   "cell_type": "code",
   "execution_count": 59,
   "metadata": {},
   "outputs": [
    {
     "data": {
      "text/plain": [
       "['otoos',\n",
       " 'Birde',\n",
       " 'Chevit',\n",
       " 'Chevit',\n",
       " 'Robbie jones',\n",
       " 'Shoes Bank',\n",
       " 'World Wear Footwear',\n",
       " 'Rzisbo',\n",
       " 'GANPATI TRADERS',\n",
       " 'Oricum']"
      ]
     },
     "execution_count": 59,
     "metadata": {},
     "output_type": "execute_result"
    }
   ],
   "source": [
    "Brand[0:10]"
   ]
  },
  {
   "cell_type": "code",
   "execution_count": 60,
   "metadata": {},
   "outputs": [
    {
     "data": {
      "text/plain": [
       "160"
      ]
     },
     "execution_count": 60,
     "metadata": {},
     "output_type": "execute_result"
    }
   ],
   "source": [
    "len(Brand)"
   ]
  },
  {
   "cell_type": "code",
   "execution_count": 62,
   "metadata": {},
   "outputs": [],
   "source": [
    "    start_page=0\n",
    "    end_page=3\n",
    "    \n",
    "    Price=[]\n",
    "    \n",
    "    \n",
    "    for page in range(start_page,end_page+1):\n",
    "        p_tags=driver.find_elements_by_xpath(\"//div[@class='_30jeq3']\")\n",
    "      \n",
    "        for i in p_tags:\n",
    "                p=i.text\n",
    "                Price.append(p)\n",
    "\n",
    "    \n",
    "        nxt_button=driver.find_element_by_xpath(\"//a[@class='_1LKTO3']/span\")\n",
    "        if nxt_button.text=='Next':\n",
    "            nxt_button.click()\n",
    "            time.sleep(5)"
   ]
  },
  {
   "cell_type": "code",
   "execution_count": 63,
   "metadata": {},
   "outputs": [
    {
     "data": {
      "text/plain": [
       "['₹426',\n",
       " '₹569',\n",
       " '₹579',\n",
       " '₹224',\n",
       " '₹399',\n",
       " '₹349',\n",
       " '₹240',\n",
       " '₹349',\n",
       " '₹199',\n",
       " '₹419']"
      ]
     },
     "execution_count": 63,
     "metadata": {},
     "output_type": "execute_result"
    }
   ],
   "source": [
    "Price[0:10]"
   ]
  },
  {
   "cell_type": "code",
   "execution_count": 64,
   "metadata": {},
   "outputs": [
    {
     "data": {
      "text/plain": [
       "160"
      ]
     },
     "execution_count": 64,
     "metadata": {},
     "output_type": "execute_result"
    }
   ],
   "source": [
    "len(Price)"
   ]
  },
  {
   "cell_type": "code",
   "execution_count": 65,
   "metadata": {},
   "outputs": [],
   "source": [
    "    start_page=0\n",
    "    end_page=3\n",
    "    \n",
    "    Discount=[]\n",
    "    \n",
    "    \n",
    "    for page in range(start_page,end_page+1):\n",
    "        d_tags=driver.find_elements_by_xpath(\"//div[@class='_3Ay6Sb']/span\")\n",
    "      \n",
    "        for i in d_tags:\n",
    "                d=i.text\n",
    "                Discount.append(d)\n",
    "\n",
    "    \n",
    "        nxt_button=driver.find_element_by_xpath(\"//a[@class='_1LKTO3']/span\")\n",
    "        if nxt_button.text=='Next':\n",
    "            nxt_button.click()\n",
    "            time.sleep(5)"
   ]
  },
  {
   "cell_type": "code",
   "execution_count": 66,
   "metadata": {},
   "outputs": [
    {
     "data": {
      "text/plain": [
       "['57% off',\n",
       " '43% off',\n",
       " '70% off',\n",
       " '55% off',\n",
       " '60% off',\n",
       " '65% off',\n",
       " '51% off',\n",
       " '65% off',\n",
       " '60% off',\n",
       " '58% off']"
      ]
     },
     "execution_count": 66,
     "metadata": {},
     "output_type": "execute_result"
    }
   ],
   "source": [
    "Discount[0:10]"
   ]
  },
  {
   "cell_type": "code",
   "execution_count": 67,
   "metadata": {},
   "outputs": [
    {
     "data": {
      "text/plain": [
       "160"
      ]
     },
     "execution_count": 67,
     "metadata": {},
     "output_type": "execute_result"
    }
   ],
   "source": [
    "len(Discount)"
   ]
  },
  {
   "cell_type": "code",
   "execution_count": 68,
   "metadata": {},
   "outputs": [],
   "source": [
    "import pandas as pd\n",
    "sneakers=pd.DataFrame({})\n",
    "sneakers['brand']=Brand[0:100]\n",
    "sneakers['price']=Price[0:100]\n",
    "sneakers['discount']=Discount[0:100]\n"
   ]
  },
  {
   "cell_type": "code",
   "execution_count": 69,
   "metadata": {},
   "outputs": [
    {
     "data": {
      "text/html": [
       "<div>\n",
       "<style scoped>\n",
       "    .dataframe tbody tr th:only-of-type {\n",
       "        vertical-align: middle;\n",
       "    }\n",
       "\n",
       "    .dataframe tbody tr th {\n",
       "        vertical-align: top;\n",
       "    }\n",
       "\n",
       "    .dataframe thead th {\n",
       "        text-align: right;\n",
       "    }\n",
       "</style>\n",
       "<table border=\"1\" class=\"dataframe\">\n",
       "  <thead>\n",
       "    <tr style=\"text-align: right;\">\n",
       "      <th></th>\n",
       "      <th>brand</th>\n",
       "      <th>price</th>\n",
       "      <th>discount</th>\n",
       "    </tr>\n",
       "  </thead>\n",
       "  <tbody>\n",
       "    <tr>\n",
       "      <th>0</th>\n",
       "      <td>otoos</td>\n",
       "      <td>₹426</td>\n",
       "      <td>57% off</td>\n",
       "    </tr>\n",
       "    <tr>\n",
       "      <th>1</th>\n",
       "      <td>Birde</td>\n",
       "      <td>₹569</td>\n",
       "      <td>43% off</td>\n",
       "    </tr>\n",
       "    <tr>\n",
       "      <th>2</th>\n",
       "      <td>Chevit</td>\n",
       "      <td>₹579</td>\n",
       "      <td>70% off</td>\n",
       "    </tr>\n",
       "    <tr>\n",
       "      <th>3</th>\n",
       "      <td>Chevit</td>\n",
       "      <td>₹224</td>\n",
       "      <td>55% off</td>\n",
       "    </tr>\n",
       "    <tr>\n",
       "      <th>4</th>\n",
       "      <td>Robbie jones</td>\n",
       "      <td>₹399</td>\n",
       "      <td>60% off</td>\n",
       "    </tr>\n",
       "    <tr>\n",
       "      <th>...</th>\n",
       "      <td>...</td>\n",
       "      <td>...</td>\n",
       "      <td>...</td>\n",
       "    </tr>\n",
       "    <tr>\n",
       "      <th>95</th>\n",
       "      <td>Chevit</td>\n",
       "      <td>₹369</td>\n",
       "      <td>26% off</td>\n",
       "    </tr>\n",
       "    <tr>\n",
       "      <th>96</th>\n",
       "      <td>Chevit</td>\n",
       "      <td>₹359</td>\n",
       "      <td>64% off</td>\n",
       "    </tr>\n",
       "    <tr>\n",
       "      <th>97</th>\n",
       "      <td>Chevit</td>\n",
       "      <td>₹540</td>\n",
       "      <td>63% off</td>\n",
       "    </tr>\n",
       "    <tr>\n",
       "      <th>98</th>\n",
       "      <td>Essence</td>\n",
       "      <td>₹374</td>\n",
       "      <td>62% off</td>\n",
       "    </tr>\n",
       "    <tr>\n",
       "      <th>99</th>\n",
       "      <td>Bonexy</td>\n",
       "      <td>₹474</td>\n",
       "      <td>52% off</td>\n",
       "    </tr>\n",
       "  </tbody>\n",
       "</table>\n",
       "<p>100 rows × 3 columns</p>\n",
       "</div>"
      ],
      "text/plain": [
       "           brand price discount\n",
       "0          otoos  ₹426  57% off\n",
       "1          Birde  ₹569  43% off\n",
       "2         Chevit  ₹579  70% off\n",
       "3         Chevit  ₹224  55% off\n",
       "4   Robbie jones  ₹399  60% off\n",
       "..           ...   ...      ...\n",
       "95        Chevit  ₹369  26% off\n",
       "96        Chevit  ₹359  64% off\n",
       "97        Chevit  ₹540  63% off\n",
       "98       Essence  ₹374  62% off\n",
       "99        Bonexy  ₹474  52% off\n",
       "\n",
       "[100 rows x 3 columns]"
      ]
     },
     "execution_count": 69,
     "metadata": {},
     "output_type": "execute_result"
    }
   ],
   "source": [
    "sneakers"
   ]
  },
  {
   "cell_type": "code",
   "execution_count": 70,
   "metadata": {},
   "outputs": [],
   "source": [
    "driver.close()"
   ]
  },
  {
   "cell_type": "markdown",
   "metadata": {},
   "source": [
    "Q10: Go to webpage https://www.amazon.in/\n",
    " Enter “Laptop” in the search field and then click the search icon.\n",
    " Then set CPU Type filter to “Intel Core i7” and “Intel Core i9” as shown in the\n",
    "below image:\n",
    "    After setting the filters scrape first 10 laptops data. You have to scrape 3 attributes\n",
    "for each laptop:\n",
    "1. title\n",
    "2. Ratings\n",
    "3. Price"
   ]
  },
  {
   "cell_type": "code",
   "execution_count": 89,
   "metadata": {},
   "outputs": [],
   "source": [
    "driver=webdriver.Chrome(r\"C:\\Users\\YaTiKa\\Desktop\\chromedriver.exe\")"
   ]
  },
  {
   "cell_type": "code",
   "execution_count": 90,
   "metadata": {},
   "outputs": [],
   "source": [
    "driver.get('https://www.amazon.in/')"
   ]
  },
  {
   "cell_type": "code",
   "execution_count": null,
   "metadata": {},
   "outputs": [],
   "source": [
    "    "
   ]
  },
  {
   "cell_type": "code",
   "execution_count": 91,
   "metadata": {},
   "outputs": [],
   "source": [
    "search_p=driver.find_element_by_id('twotabsearchtextbox')\n",
    "search_p.send_keys('Laptop')"
   ]
  },
  {
   "cell_type": "code",
   "execution_count": 92,
   "metadata": {},
   "outputs": [],
   "source": [
    "search_btn=driver.find_element_by_xpath(\"//input[@type='submit'][1]\")\n",
    "search_btn.click()"
   ]
  },
  {
   "cell_type": "code",
   "execution_count": 100,
   "metadata": {},
   "outputs": [],
   "source": [
    "cpu_btn1=driver.find_element_by_xpath(\"//li[@aria-label='Intel Core i7']/span/a/div\")\n",
    "\n",
    "\n",
    "cpu_btn1.click()"
   ]
  },
  {
   "cell_type": "code",
   "execution_count": 101,
   "metadata": {},
   "outputs": [],
   "source": [
    "title=[]\n",
    "\n",
    "Ratings=[]\n",
    "\n",
    "Price=[]\n"
   ]
  },
  {
   "cell_type": "code",
   "execution_count": 103,
   "metadata": {},
   "outputs": [],
   "source": [
    "t_tags=driver.find_elements_by_xpath(\"//span[@class='a-size-medium a-color-base a-text-normal']\")\n",
    "      \n",
    "for i in t_tags:\n",
    "    t=i.text\n",
    "    title.append(t)\n",
    "    \n",
    "               "
   ]
  },
  {
   "cell_type": "code",
   "execution_count": 104,
   "metadata": {},
   "outputs": [
    {
     "data": {
      "text/plain": [
       "['ASUS ZenBook Flip S OLED, Intel Evo Core i7-1165G7 11th Gen, 13.3-inch UHD Touch Thin and Light 2-in-1 Laptop (16GB/1TB SSD/Windows 10/Office 2019/Iris Xᵉ Graphics/Jade Black/1.2 kg), UX371EA-HL701TS',\n",
       " 'HP Pavilion x360 Core i7 8th Gen 14-inch Touchscreen 2-in-1 FHD Thin and Light Laptop (16GB/512GB SSD/Windows 10/MS Office/2GB Graphics/Mineral Silver/1.59 kg), 14- dh0045TX',\n",
       " \"(Renewed) HP EliteBook FOLIO 9480M Laptop (Core i7 4th Gen/4GB/500GB/WEBCAM/14''/DOS)\",\n",
       " 'ASUS TUF Gaming F15 Laptop 15.6\" FHD Intel Core i7 10th Gen, GeForce GTX 1650 4GB GDDR6 Graphics (8GB RAM/512GB NVMe SSD/Windows 10/Fortress Gray/2.30 Kg), FX566LH-BQ036T + Xbox Game Pass for PC',\n",
       " 'ASUS ZenBook 14 (2020) Intel Core i7-1165G7 11th Gen 14-inch FHD Thin and Light Laptop (16GB RAM/512GB NVMe SSD/Windows 10/MS Office 2019/Intel Iris Xᵉ Graphics/Pine Grey/1.17 kg), UX425EA-BM701TS',\n",
       " '(Renewed) Lenovo ThinkPad High Performance 12.5 inch IPS Panel 1.53 kg Laptop (Core I7 5600U/8 GB(Upto 16GB)/256 GB SSD/Win 10 Pro/Webcam/USB 3.0/SIM/BT/M.2/TPM 2.0 VPro/Integrated Graphics)',\n",
       " 'ASUS ZenBook 13 (2020) Intel Core i7-1165G7 11th Gen 13.3-inch FHD Thin and Light Laptop (16GB RAM/1TB NVMe SSD/Windows 10/MS Office 2019/Intel Iris Xᵉ Graphics/Lilac Mist/1.11 kg), UX325EA-EG701TS',\n",
       " 'HP Pavilion x360 Touchscreen 2-in-1 FHD 14-inch Laptop (10th Gen Core i7-10510U/8GB/512GB SSD/Windows 10 Home/MS Office/Mineral Silver/1.58 kg), 14-dh1180tu',\n",
       " 'Lenovo Legion 5Pi 10th Gen Intel Core i7 15.6\" FHD Gaming Laptop (16GB/1TB SSD/Windows 10/MS Office 2019/144 Hz/NVIDIA RTX 2060 6GB GDDR6/with M300 RGB Gaming Mouse/Iron Grey/2.3Kg), 82AW005SIN',\n",
       " 'Dell G3 3500 Gaming 15.6inch 120hz FHD Display Laptop (10th Gen i7-10750H / 8 GB / 512 SSD / GTX 1650 4GB / 1Yr Premium Warranty/ Win 10 + MS Office H&S 2019) D560250WIN9BE']"
      ]
     },
     "execution_count": 104,
     "metadata": {},
     "output_type": "execute_result"
    }
   ],
   "source": [
    "title[0:10]"
   ]
  },
  {
   "cell_type": "code",
   "execution_count": 105,
   "metadata": {},
   "outputs": [],
   "source": [
    "pr_tags=driver.find_elements_by_xpath(\"//span[@class='a-price-whole']\")\n",
    "      \n",
    "for i in pr_tags:\n",
    "    pr=i.text\n",
    "    Price.append(pr)"
   ]
  },
  {
   "cell_type": "code",
   "execution_count": 106,
   "metadata": {},
   "outputs": [
    {
     "data": {
      "text/plain": [
       "['1,49,455',\n",
       " '85,990',\n",
       " '24,490',\n",
       " '73,990',\n",
       " '95,490',\n",
       " '36,699',\n",
       " '99,990',\n",
       " '74,990',\n",
       " '1,61,990',\n",
       " '82,990']"
      ]
     },
     "execution_count": 106,
     "metadata": {},
     "output_type": "execute_result"
    }
   ],
   "source": [
    "Price[0:10]"
   ]
  },
  {
   "cell_type": "code",
   "execution_count": 107,
   "metadata": {},
   "outputs": [],
   "source": [
    "import pandas as pd\n",
    "laptops=pd.DataFrame({})\n",
    "laptops['brand']=title[0:10]\n",
    "laptops['price']=Price[0:10]\n",
    "\n"
   ]
  },
  {
   "cell_type": "code",
   "execution_count": 108,
   "metadata": {},
   "outputs": [
    {
     "data": {
      "text/html": [
       "<div>\n",
       "<style scoped>\n",
       "    .dataframe tbody tr th:only-of-type {\n",
       "        vertical-align: middle;\n",
       "    }\n",
       "\n",
       "    .dataframe tbody tr th {\n",
       "        vertical-align: top;\n",
       "    }\n",
       "\n",
       "    .dataframe thead th {\n",
       "        text-align: right;\n",
       "    }\n",
       "</style>\n",
       "<table border=\"1\" class=\"dataframe\">\n",
       "  <thead>\n",
       "    <tr style=\"text-align: right;\">\n",
       "      <th></th>\n",
       "      <th>brand</th>\n",
       "      <th>price</th>\n",
       "    </tr>\n",
       "  </thead>\n",
       "  <tbody>\n",
       "    <tr>\n",
       "      <th>0</th>\n",
       "      <td>ASUS ZenBook Flip S OLED, Intel Evo Core i7-11...</td>\n",
       "      <td>1,49,455</td>\n",
       "    </tr>\n",
       "    <tr>\n",
       "      <th>1</th>\n",
       "      <td>HP Pavilion x360 Core i7 8th Gen 14-inch Touch...</td>\n",
       "      <td>85,990</td>\n",
       "    </tr>\n",
       "    <tr>\n",
       "      <th>2</th>\n",
       "      <td>(Renewed) HP EliteBook FOLIO 9480M Laptop (Cor...</td>\n",
       "      <td>24,490</td>\n",
       "    </tr>\n",
       "    <tr>\n",
       "      <th>3</th>\n",
       "      <td>ASUS TUF Gaming F15 Laptop 15.6\" FHD Intel Cor...</td>\n",
       "      <td>73,990</td>\n",
       "    </tr>\n",
       "    <tr>\n",
       "      <th>4</th>\n",
       "      <td>ASUS ZenBook 14 (2020) Intel Core i7-1165G7 11...</td>\n",
       "      <td>95,490</td>\n",
       "    </tr>\n",
       "    <tr>\n",
       "      <th>5</th>\n",
       "      <td>(Renewed) Lenovo ThinkPad High Performance 12....</td>\n",
       "      <td>36,699</td>\n",
       "    </tr>\n",
       "    <tr>\n",
       "      <th>6</th>\n",
       "      <td>ASUS ZenBook 13 (2020) Intel Core i7-1165G7 11...</td>\n",
       "      <td>99,990</td>\n",
       "    </tr>\n",
       "    <tr>\n",
       "      <th>7</th>\n",
       "      <td>HP Pavilion x360 Touchscreen 2-in-1 FHD 14-inc...</td>\n",
       "      <td>74,990</td>\n",
       "    </tr>\n",
       "    <tr>\n",
       "      <th>8</th>\n",
       "      <td>Lenovo Legion 5Pi 10th Gen Intel Core i7 15.6\"...</td>\n",
       "      <td>1,61,990</td>\n",
       "    </tr>\n",
       "    <tr>\n",
       "      <th>9</th>\n",
       "      <td>Dell G3 3500 Gaming 15.6inch 120hz FHD Display...</td>\n",
       "      <td>82,990</td>\n",
       "    </tr>\n",
       "  </tbody>\n",
       "</table>\n",
       "</div>"
      ],
      "text/plain": [
       "                                               brand     price\n",
       "0  ASUS ZenBook Flip S OLED, Intel Evo Core i7-11...  1,49,455\n",
       "1  HP Pavilion x360 Core i7 8th Gen 14-inch Touch...    85,990\n",
       "2  (Renewed) HP EliteBook FOLIO 9480M Laptop (Cor...    24,490\n",
       "3  ASUS TUF Gaming F15 Laptop 15.6\" FHD Intel Cor...    73,990\n",
       "4  ASUS ZenBook 14 (2020) Intel Core i7-1165G7 11...    95,490\n",
       "5  (Renewed) Lenovo ThinkPad High Performance 12....    36,699\n",
       "6  ASUS ZenBook 13 (2020) Intel Core i7-1165G7 11...    99,990\n",
       "7  HP Pavilion x360 Touchscreen 2-in-1 FHD 14-inc...    74,990\n",
       "8  Lenovo Legion 5Pi 10th Gen Intel Core i7 15.6\"...  1,61,990\n",
       "9  Dell G3 3500 Gaming 15.6inch 120hz FHD Display...    82,990"
      ]
     },
     "execution_count": 108,
     "metadata": {},
     "output_type": "execute_result"
    }
   ],
   "source": [
    "laptops"
   ]
  },
  {
   "cell_type": "code",
   "execution_count": null,
   "metadata": {},
   "outputs": [],
   "source": []
  }
 ],
 "metadata": {
  "kernelspec": {
   "display_name": "Python 3",
   "language": "python",
   "name": "python3"
  },
  "language_info": {
   "codemirror_mode": {
    "name": "ipython",
    "version": 3
   },
   "file_extension": ".py",
   "mimetype": "text/x-python",
   "name": "python",
   "nbconvert_exporter": "python",
   "pygments_lexer": "ipython3",
   "version": "3.7.6"
  }
 },
 "nbformat": 4,
 "nbformat_minor": 4
}
